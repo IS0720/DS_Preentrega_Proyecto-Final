{
  "nbformat": 4,
  "nbformat_minor": 0,
  "metadata": {
    "colab": {
      "provenance": [],
      "mount_file_id": "1iWwGSH5fPRC19fx_nDsbgAWWi7q-vn9w",
      "authorship_tag": "ABX9TyOezEwpwhR7e8nEFmA7xnwi",
      "include_colab_link": true
    },
    "kernelspec": {
      "name": "python3",
      "display_name": "Python 3"
    },
    "language_info": {
      "name": "python"
    }
  },
  "cells": [
    {
      "cell_type": "markdown",
      "metadata": {
        "id": "view-in-github",
        "colab_type": "text"
      },
      "source": [
        "<a href=\"https://colab.research.google.com/github/IS0720/DS_Preentrega_Proyecto-Final/blob/main/DS_DESAFIO_XII_Silva_Ivan.ipynb\" target=\"_parent\"><img src=\"https://colab.research.google.com/assets/colab-badge.svg\" alt=\"Open In Colab\"/></a>"
      ]
    },
    {
      "cell_type": "markdown",
      "source": [
        "#**ENTREGA DESAFIO X** - OBTENCION DE INSIGHTS"
      ],
      "metadata": {
        "id": "LAWn1BTOK2Bj"
      }
    },
    {
      "cell_type": "markdown",
      "source": [
        "A desarrollar"
      ],
      "metadata": {
        "id": "HO-Zin0QxQxH"
      }
    },
    {
      "cell_type": "markdown",
      "source": [
        "### **1) ABSTRACT**"
      ],
      "metadata": {
        "id": "nJl4Jw7GZnio"
      }
    },
    {
      "cell_type": "markdown",
      "source": [
        "El presente proyecto centra su enfoque en la comprensión de datos obtenidos de encuesta de personas de Colombia, Perú y México. Se obtuvieron un total de 2111 registros, correspondientes a las respuestas de cada persona entrevistada. Los datos contienen detalle referente a Tipos de obesidad (IMC) considerando como variables de definición de la misma al peso y estatura de cada persona. Adicionalmente, se definen datos respecto a Edad, Género, y Hábitos de alimentación y vida. Como objetivo planteo, la búsqueda de evidenciar a través de modificaciones en la conducta alimentaria y psicofísica, de cómo es el impacto sobre el estado de salud vinculado al peso de una persona. Si bien el presente proyecto considera como parámetro saludable al IMC, es fundamental incorporar como variables de análisis factores adicionales. Podemos considerar que una persona puede estar dentro de un \"peso normal\" según el IMC, pero podemos estar frente a un potencial riesgo de la salud por la implicancia del resto de los factores en el presente analizados, como ser, la frecuencia de tabaquismo o de ingesta de alcohol.\n"
      ],
      "metadata": {
        "id": "5dfimrW6Zx3j"
      }
    },
    {
      "cell_type": "markdown",
      "source": [
        "### **2) PREGUNTAS INTERES / INSIGHTS**"
      ],
      "metadata": {
        "id": "HytRyxtScCgn"
      }
    },
    {
      "cell_type": "markdown",
      "source": [
        "•\t¿Efectuando un plan de alimentación más equilibrado deberíamos de poder visualizar un desplazamiento hacia un tipo de peso normal? No solo disminuyendo notablemente la cantidad en los tipos de obesidad y sobrepeso, sino también en el tipo “por debajo del peso normal”.\n",
        "\n",
        "•\t¿Modificando la frecuencia de actividad física y hábitos de traslado debería de concentrar mayores datos del muestreo en categorías de peso normal?\n",
        "\n",
        "•\tA través de gráficos de histograma, como así también de dispersión se evidencia que la mayor concentración se da en mayor medida en casos de obesidad tipo I, como así también en la población más joven de la muestra.\n"
      ],
      "metadata": {
        "id": "3e9Q8mIWcNsq"
      }
    },
    {
      "cell_type": "markdown",
      "source": [
        "### 2.1) *HIPOTESIS*"
      ],
      "metadata": {
        "id": "f9NrEaxzKd7-"
      }
    },
    {
      "cell_type": "markdown",
      "source": [
        "•\tHIPO A: A mayor edad, y en función de la conciencia sobre la salud se evidencia que el grado de concentración de datos de tipo de obesidad es menor.\n",
        "\n",
        "•\tHIPO B: Frente a la mejora de hábitos de vida, como así también del peso, **NO** siempre impacta positivamente modificando el IMC llevando la mayor proporción de la muestra a un peso normal.\n",
        "\n",
        "•\tHIPO C: No siempre el peso normal (IMC) es sinónimo de estar “saludable”\n"
      ],
      "metadata": {
        "id": "UZoalXnvd_Jt"
      }
    },
    {
      "cell_type": "markdown",
      "source": [
        "### **3) EXPLORATORY DATA ANALYSIS (EDA)**"
      ],
      "metadata": {
        "id": "Z4W34T-uJLCS"
      }
    },
    {
      "cell_type": "markdown",
      "source": [
        "### 3.1) *Carga de Librerias*\n"
      ],
      "metadata": {
        "id": "9ZEJv0iRu4N7"
      }
    },
    {
      "cell_type": "markdown",
      "source": [],
      "metadata": {
        "id": "GBphTn0du6V6"
      }
    },
    {
      "cell_type": "code",
      "source": [
        "import matplotlib as mpl\n",
        "import matplotlib.pyplot as plt\n",
        "import seaborn as sns\n",
        "import pandas as pd\n",
        "import numpy as np\n",
        "mpl.style.use('bmh')"
      ],
      "metadata": {
        "id": "dK1t9Jfbu-Xd"
      },
      "execution_count": null,
      "outputs": []
    },
    {
      "cell_type": "markdown",
      "source": [
        "### 3.2) *Carga DS (Obesidad)*"
      ],
      "metadata": {
        "id": "74L88wvgvEUd"
      }
    },
    {
      "cell_type": "code",
      "source": [
        "import pandas as pd\n",
        "df_ob = pd.read_csv(\"/content/drive/MyDrive/CODERHOUSE/DATA SCIENCE/DESAFIO I/ObesityDataSet_raw_and_data_sinthetic.csv\")\n",
        "df_ob.head()"
      ],
      "metadata": {
        "colab": {
          "base_uri": "https://localhost:8080/",
          "height": 226
        },
        "id": "2_FkOiQzvJuS",
        "outputId": "f6327569-afb5-40c8-acf3-47103756c73b"
      },
      "execution_count": null,
      "outputs": [
        {
          "output_type": "execute_result",
          "data": {
            "text/plain": [
              "   Gender   Age  Height  Weight family_history_with_overweight FAVC  FCVC  \\\n",
              "0  Female  21.0    1.62    64.0                            yes   no   2.0   \n",
              "1  Female  21.0    1.52    56.0                            yes   no   3.0   \n",
              "2    Male  23.0    1.80    77.0                            yes   no   2.0   \n",
              "3    Male  27.0    1.80    87.0                             no   no   3.0   \n",
              "4    Male  22.0    1.78    89.8                             no   no   2.0   \n",
              "\n",
              "   NCP       CAEC SMOKE  CH2O  SCC  FAF  TUE        CALC  \\\n",
              "0  3.0  Sometimes    no   2.0   no  0.0  1.0          no   \n",
              "1  3.0  Sometimes   yes   3.0  yes  3.0  0.0   Sometimes   \n",
              "2  3.0  Sometimes    no   2.0   no  2.0  1.0  Frequently   \n",
              "3  3.0  Sometimes    no   2.0   no  2.0  0.0  Frequently   \n",
              "4  1.0  Sometimes    no   2.0   no  0.0  0.0   Sometimes   \n",
              "\n",
              "                  MTRANS           NObeyesdad  \n",
              "0  Public_Transportation        Normal_Weight  \n",
              "1  Public_Transportation        Normal_Weight  \n",
              "2  Public_Transportation        Normal_Weight  \n",
              "3                Walking   Overweight_Level_I  \n",
              "4  Public_Transportation  Overweight_Level_II  "
            ],
            "text/html": [
              "\n",
              "  <div id=\"df-35848d61-ca77-43fc-9a3b-fd7cb4f15113\" class=\"colab-df-container\">\n",
              "    <div>\n",
              "<style scoped>\n",
              "    .dataframe tbody tr th:only-of-type {\n",
              "        vertical-align: middle;\n",
              "    }\n",
              "\n",
              "    .dataframe tbody tr th {\n",
              "        vertical-align: top;\n",
              "    }\n",
              "\n",
              "    .dataframe thead th {\n",
              "        text-align: right;\n",
              "    }\n",
              "</style>\n",
              "<table border=\"1\" class=\"dataframe\">\n",
              "  <thead>\n",
              "    <tr style=\"text-align: right;\">\n",
              "      <th></th>\n",
              "      <th>Gender</th>\n",
              "      <th>Age</th>\n",
              "      <th>Height</th>\n",
              "      <th>Weight</th>\n",
              "      <th>family_history_with_overweight</th>\n",
              "      <th>FAVC</th>\n",
              "      <th>FCVC</th>\n",
              "      <th>NCP</th>\n",
              "      <th>CAEC</th>\n",
              "      <th>SMOKE</th>\n",
              "      <th>CH2O</th>\n",
              "      <th>SCC</th>\n",
              "      <th>FAF</th>\n",
              "      <th>TUE</th>\n",
              "      <th>CALC</th>\n",
              "      <th>MTRANS</th>\n",
              "      <th>NObeyesdad</th>\n",
              "    </tr>\n",
              "  </thead>\n",
              "  <tbody>\n",
              "    <tr>\n",
              "      <th>0</th>\n",
              "      <td>Female</td>\n",
              "      <td>21.0</td>\n",
              "      <td>1.62</td>\n",
              "      <td>64.0</td>\n",
              "      <td>yes</td>\n",
              "      <td>no</td>\n",
              "      <td>2.0</td>\n",
              "      <td>3.0</td>\n",
              "      <td>Sometimes</td>\n",
              "      <td>no</td>\n",
              "      <td>2.0</td>\n",
              "      <td>no</td>\n",
              "      <td>0.0</td>\n",
              "      <td>1.0</td>\n",
              "      <td>no</td>\n",
              "      <td>Public_Transportation</td>\n",
              "      <td>Normal_Weight</td>\n",
              "    </tr>\n",
              "    <tr>\n",
              "      <th>1</th>\n",
              "      <td>Female</td>\n",
              "      <td>21.0</td>\n",
              "      <td>1.52</td>\n",
              "      <td>56.0</td>\n",
              "      <td>yes</td>\n",
              "      <td>no</td>\n",
              "      <td>3.0</td>\n",
              "      <td>3.0</td>\n",
              "      <td>Sometimes</td>\n",
              "      <td>yes</td>\n",
              "      <td>3.0</td>\n",
              "      <td>yes</td>\n",
              "      <td>3.0</td>\n",
              "      <td>0.0</td>\n",
              "      <td>Sometimes</td>\n",
              "      <td>Public_Transportation</td>\n",
              "      <td>Normal_Weight</td>\n",
              "    </tr>\n",
              "    <tr>\n",
              "      <th>2</th>\n",
              "      <td>Male</td>\n",
              "      <td>23.0</td>\n",
              "      <td>1.80</td>\n",
              "      <td>77.0</td>\n",
              "      <td>yes</td>\n",
              "      <td>no</td>\n",
              "      <td>2.0</td>\n",
              "      <td>3.0</td>\n",
              "      <td>Sometimes</td>\n",
              "      <td>no</td>\n",
              "      <td>2.0</td>\n",
              "      <td>no</td>\n",
              "      <td>2.0</td>\n",
              "      <td>1.0</td>\n",
              "      <td>Frequently</td>\n",
              "      <td>Public_Transportation</td>\n",
              "      <td>Normal_Weight</td>\n",
              "    </tr>\n",
              "    <tr>\n",
              "      <th>3</th>\n",
              "      <td>Male</td>\n",
              "      <td>27.0</td>\n",
              "      <td>1.80</td>\n",
              "      <td>87.0</td>\n",
              "      <td>no</td>\n",
              "      <td>no</td>\n",
              "      <td>3.0</td>\n",
              "      <td>3.0</td>\n",
              "      <td>Sometimes</td>\n",
              "      <td>no</td>\n",
              "      <td>2.0</td>\n",
              "      <td>no</td>\n",
              "      <td>2.0</td>\n",
              "      <td>0.0</td>\n",
              "      <td>Frequently</td>\n",
              "      <td>Walking</td>\n",
              "      <td>Overweight_Level_I</td>\n",
              "    </tr>\n",
              "    <tr>\n",
              "      <th>4</th>\n",
              "      <td>Male</td>\n",
              "      <td>22.0</td>\n",
              "      <td>1.78</td>\n",
              "      <td>89.8</td>\n",
              "      <td>no</td>\n",
              "      <td>no</td>\n",
              "      <td>2.0</td>\n",
              "      <td>1.0</td>\n",
              "      <td>Sometimes</td>\n",
              "      <td>no</td>\n",
              "      <td>2.0</td>\n",
              "      <td>no</td>\n",
              "      <td>0.0</td>\n",
              "      <td>0.0</td>\n",
              "      <td>Sometimes</td>\n",
              "      <td>Public_Transportation</td>\n",
              "      <td>Overweight_Level_II</td>\n",
              "    </tr>\n",
              "  </tbody>\n",
              "</table>\n",
              "</div>\n",
              "    <div class=\"colab-df-buttons\">\n",
              "\n",
              "  <div class=\"colab-df-container\">\n",
              "    <button class=\"colab-df-convert\" onclick=\"convertToInteractive('df-35848d61-ca77-43fc-9a3b-fd7cb4f15113')\"\n",
              "            title=\"Convert this dataframe to an interactive table.\"\n",
              "            style=\"display:none;\">\n",
              "\n",
              "  <svg xmlns=\"http://www.w3.org/2000/svg\" height=\"24px\" viewBox=\"0 -960 960 960\">\n",
              "    <path d=\"M120-120v-720h720v720H120Zm60-500h600v-160H180v160Zm220 220h160v-160H400v160Zm0 220h160v-160H400v160ZM180-400h160v-160H180v160Zm440 0h160v-160H620v160ZM180-180h160v-160H180v160Zm440 0h160v-160H620v160Z\"/>\n",
              "  </svg>\n",
              "    </button>\n",
              "\n",
              "  <style>\n",
              "    .colab-df-container {\n",
              "      display:flex;\n",
              "      gap: 12px;\n",
              "    }\n",
              "\n",
              "    .colab-df-convert {\n",
              "      background-color: #E8F0FE;\n",
              "      border: none;\n",
              "      border-radius: 50%;\n",
              "      cursor: pointer;\n",
              "      display: none;\n",
              "      fill: #1967D2;\n",
              "      height: 32px;\n",
              "      padding: 0 0 0 0;\n",
              "      width: 32px;\n",
              "    }\n",
              "\n",
              "    .colab-df-convert:hover {\n",
              "      background-color: #E2EBFA;\n",
              "      box-shadow: 0px 1px 2px rgba(60, 64, 67, 0.3), 0px 1px 3px 1px rgba(60, 64, 67, 0.15);\n",
              "      fill: #174EA6;\n",
              "    }\n",
              "\n",
              "    .colab-df-buttons div {\n",
              "      margin-bottom: 4px;\n",
              "    }\n",
              "\n",
              "    [theme=dark] .colab-df-convert {\n",
              "      background-color: #3B4455;\n",
              "      fill: #D2E3FC;\n",
              "    }\n",
              "\n",
              "    [theme=dark] .colab-df-convert:hover {\n",
              "      background-color: #434B5C;\n",
              "      box-shadow: 0px 1px 3px 1px rgba(0, 0, 0, 0.15);\n",
              "      filter: drop-shadow(0px 1px 2px rgba(0, 0, 0, 0.3));\n",
              "      fill: #FFFFFF;\n",
              "    }\n",
              "  </style>\n",
              "\n",
              "    <script>\n",
              "      const buttonEl =\n",
              "        document.querySelector('#df-35848d61-ca77-43fc-9a3b-fd7cb4f15113 button.colab-df-convert');\n",
              "      buttonEl.style.display =\n",
              "        google.colab.kernel.accessAllowed ? 'block' : 'none';\n",
              "\n",
              "      async function convertToInteractive(key) {\n",
              "        const element = document.querySelector('#df-35848d61-ca77-43fc-9a3b-fd7cb4f15113');\n",
              "        const dataTable =\n",
              "          await google.colab.kernel.invokeFunction('convertToInteractive',\n",
              "                                                    [key], {});\n",
              "        if (!dataTable) return;\n",
              "\n",
              "        const docLinkHtml = 'Like what you see? Visit the ' +\n",
              "          '<a target=\"_blank\" href=https://colab.research.google.com/notebooks/data_table.ipynb>data table notebook</a>'\n",
              "          + ' to learn more about interactive tables.';\n",
              "        element.innerHTML = '';\n",
              "        dataTable['output_type'] = 'display_data';\n",
              "        await google.colab.output.renderOutput(dataTable, element);\n",
              "        const docLink = document.createElement('div');\n",
              "        docLink.innerHTML = docLinkHtml;\n",
              "        element.appendChild(docLink);\n",
              "      }\n",
              "    </script>\n",
              "  </div>\n",
              "\n",
              "\n",
              "<div id=\"df-3849ace8-f3aa-455b-9759-e8a384bda86f\">\n",
              "  <button class=\"colab-df-quickchart\" onclick=\"quickchart('df-3849ace8-f3aa-455b-9759-e8a384bda86f')\"\n",
              "            title=\"Suggest charts.\"\n",
              "            style=\"display:none;\">\n",
              "\n",
              "<svg xmlns=\"http://www.w3.org/2000/svg\" height=\"24px\"viewBox=\"0 0 24 24\"\n",
              "     width=\"24px\">\n",
              "    <g>\n",
              "        <path d=\"M19 3H5c-1.1 0-2 .9-2 2v14c0 1.1.9 2 2 2h14c1.1 0 2-.9 2-2V5c0-1.1-.9-2-2-2zM9 17H7v-7h2v7zm4 0h-2V7h2v10zm4 0h-2v-4h2v4z\"/>\n",
              "    </g>\n",
              "</svg>\n",
              "  </button>\n",
              "\n",
              "<style>\n",
              "  .colab-df-quickchart {\n",
              "      --bg-color: #E8F0FE;\n",
              "      --fill-color: #1967D2;\n",
              "      --hover-bg-color: #E2EBFA;\n",
              "      --hover-fill-color: #174EA6;\n",
              "      --disabled-fill-color: #AAA;\n",
              "      --disabled-bg-color: #DDD;\n",
              "  }\n",
              "\n",
              "  [theme=dark] .colab-df-quickchart {\n",
              "      --bg-color: #3B4455;\n",
              "      --fill-color: #D2E3FC;\n",
              "      --hover-bg-color: #434B5C;\n",
              "      --hover-fill-color: #FFFFFF;\n",
              "      --disabled-bg-color: #3B4455;\n",
              "      --disabled-fill-color: #666;\n",
              "  }\n",
              "\n",
              "  .colab-df-quickchart {\n",
              "    background-color: var(--bg-color);\n",
              "    border: none;\n",
              "    border-radius: 50%;\n",
              "    cursor: pointer;\n",
              "    display: none;\n",
              "    fill: var(--fill-color);\n",
              "    height: 32px;\n",
              "    padding: 0;\n",
              "    width: 32px;\n",
              "  }\n",
              "\n",
              "  .colab-df-quickchart:hover {\n",
              "    background-color: var(--hover-bg-color);\n",
              "    box-shadow: 0 1px 2px rgba(60, 64, 67, 0.3), 0 1px 3px 1px rgba(60, 64, 67, 0.15);\n",
              "    fill: var(--button-hover-fill-color);\n",
              "  }\n",
              "\n",
              "  .colab-df-quickchart-complete:disabled,\n",
              "  .colab-df-quickchart-complete:disabled:hover {\n",
              "    background-color: var(--disabled-bg-color);\n",
              "    fill: var(--disabled-fill-color);\n",
              "    box-shadow: none;\n",
              "  }\n",
              "\n",
              "  .colab-df-spinner {\n",
              "    border: 2px solid var(--fill-color);\n",
              "    border-color: transparent;\n",
              "    border-bottom-color: var(--fill-color);\n",
              "    animation:\n",
              "      spin 1s steps(1) infinite;\n",
              "  }\n",
              "\n",
              "  @keyframes spin {\n",
              "    0% {\n",
              "      border-color: transparent;\n",
              "      border-bottom-color: var(--fill-color);\n",
              "      border-left-color: var(--fill-color);\n",
              "    }\n",
              "    20% {\n",
              "      border-color: transparent;\n",
              "      border-left-color: var(--fill-color);\n",
              "      border-top-color: var(--fill-color);\n",
              "    }\n",
              "    30% {\n",
              "      border-color: transparent;\n",
              "      border-left-color: var(--fill-color);\n",
              "      border-top-color: var(--fill-color);\n",
              "      border-right-color: var(--fill-color);\n",
              "    }\n",
              "    40% {\n",
              "      border-color: transparent;\n",
              "      border-right-color: var(--fill-color);\n",
              "      border-top-color: var(--fill-color);\n",
              "    }\n",
              "    60% {\n",
              "      border-color: transparent;\n",
              "      border-right-color: var(--fill-color);\n",
              "    }\n",
              "    80% {\n",
              "      border-color: transparent;\n",
              "      border-right-color: var(--fill-color);\n",
              "      border-bottom-color: var(--fill-color);\n",
              "    }\n",
              "    90% {\n",
              "      border-color: transparent;\n",
              "      border-bottom-color: var(--fill-color);\n",
              "    }\n",
              "  }\n",
              "</style>\n",
              "\n",
              "  <script>\n",
              "    async function quickchart(key) {\n",
              "      const quickchartButtonEl =\n",
              "        document.querySelector('#' + key + ' button');\n",
              "      quickchartButtonEl.disabled = true;  // To prevent multiple clicks.\n",
              "      quickchartButtonEl.classList.add('colab-df-spinner');\n",
              "      try {\n",
              "        const charts = await google.colab.kernel.invokeFunction(\n",
              "            'suggestCharts', [key], {});\n",
              "      } catch (error) {\n",
              "        console.error('Error during call to suggestCharts:', error);\n",
              "      }\n",
              "      quickchartButtonEl.classList.remove('colab-df-spinner');\n",
              "      quickchartButtonEl.classList.add('colab-df-quickchart-complete');\n",
              "    }\n",
              "    (() => {\n",
              "      let quickchartButtonEl =\n",
              "        document.querySelector('#df-3849ace8-f3aa-455b-9759-e8a384bda86f button');\n",
              "      quickchartButtonEl.style.display =\n",
              "        google.colab.kernel.accessAllowed ? 'block' : 'none';\n",
              "    })();\n",
              "  </script>\n",
              "</div>\n",
              "    </div>\n",
              "  </div>\n"
            ]
          },
          "metadata": {},
          "execution_count": 2
        }
      ]
    },
    {
      "cell_type": "markdown",
      "source": [
        "### 3.3) *Visualizaciones Univariadas*"
      ],
      "metadata": {
        "id": "nJQ3CnpbBw-0"
      }
    },
    {
      "cell_type": "markdown",
      "source": [
        "- Histograma Edad: podemos percibir que no tiene una distribuicion normal, sino que esta concentrada en los valores de edad mas temprana de la muestra, donde tambien se registran la mayor cantidad de casos de sobrepeso y obesidad."
      ],
      "metadata": {
        "id": "F3eOTZW7HBR3"
      }
    },
    {
      "cell_type": "code",
      "source": [
        "sns.histplot(data=df_ob, x= 'Age')"
      ],
      "metadata": {
        "colab": {
          "base_uri": "https://localhost:8080/",
          "height": 466
        },
        "id": "3YOQeTi3wFT5",
        "outputId": "1f0c2642-8d3a-44c2-d1e1-c35a8f1c1e69"
      },
      "execution_count": null,
      "outputs": [
        {
          "output_type": "execute_result",
          "data": {
            "text/plain": [
              "<Axes: xlabel='Age', ylabel='Count'>"
            ]
          },
          "metadata": {},
          "execution_count": 3
        },
        {
          "output_type": "display_data",
          "data": {
            "text/plain": [
              "<Figure size 640x480 with 1 Axes>"
            ],
            "image/png": "[encoded data removed]"
          },
          "metadata": {}
        }
      ]
    },
    {
      "cell_type": "markdown",
      "source": [
        "- Histograma Peso: podemos percibir que tiene una distribuicion casi normal, y nos permite evidenciar que hay maximos y minimos importantes para tener en cuenta."
      ],
      "metadata": {
        "id": "3IDpB6pFHqM-"
      }
    },
    {
      "cell_type": "code",
      "source": [
        "sns.histplot(data=df_ob, x= 'Weight')"
      ],
      "metadata": {
        "colab": {
          "base_uri": "https://localhost:8080/",
          "height": 471
        },
        "id": "cQSNERzv_6mC",
        "outputId": "33ebbed3-ac67-4217-dc4d-bc779fcc6f4d"
      },
      "execution_count": null,
      "outputs": [
        {
          "output_type": "execute_result",
          "data": {
            "text/plain": [
              "<Axes: xlabel='Weight', ylabel='Count'>"
            ]
          },
          "metadata": {},
          "execution_count": 4
        },
        {
          "output_type": "display_data",
          "data": {
            "text/plain": [
              "<Figure size 640x480 with 1 Axes>"
            ],
            "image/png": "[encoded data removed]"
          },
          "metadata": {}
        }
      ]
    },
    {
      "cell_type": "markdown",
      "source": [
        "- Histograma Frecuencia de actividad fisica: podemos percibir que la tendencia esta orientada a poder percibir que a medida que una persona comienza y mantiene una actividad fisica correcta, el peso tendra a disminuir en terminos absolutos."
      ],
      "metadata": {
        "id": "X29CfWfmIMux"
      }
    },
    {
      "cell_type": "code",
      "source": [
        "sns.histplot(data=df_ob, x= 'FAF')"
      ],
      "metadata": {
        "colab": {
          "base_uri": "https://localhost:8080/",
          "height": 466
        },
        "id": "2IvCZUpkAXpI",
        "outputId": "a86670e1-63fe-4a6c-ff78-2d37a64bcb30"
      },
      "execution_count": null,
      "outputs": [
        {
          "output_type": "execute_result",
          "data": {
            "text/plain": [
              "<Axes: xlabel='FAF', ylabel='Count'>"
            ]
          },
          "metadata": {},
          "execution_count": 5
        },
        {
          "output_type": "display_data",
          "data": {
            "text/plain": [
              "<Figure size 640x480 with 1 Axes>"
            ],
            "image/png": "[encoded data removed]"
          },
          "metadata": {}
        }
      ]
    },
    {
      "cell_type": "markdown",
      "source": [
        "- Histograma de *Habitos de consumo de productos con alto contenido calorico* (FAVC): Hay una marcada tendencia a dicho consumo. Mas del 75% de la poblacion muestra."
      ],
      "metadata": {
        "id": "sAlcG4xJo6l1"
      }
    },
    {
      "cell_type": "code",
      "source": [
        "sns.histplot(data=df_ob, x= 'FAVC')"
      ],
      "metadata": {
        "colab": {
          "base_uri": "https://localhost:8080/",
          "height": 466
        },
        "id": "oaO8cW0VoyXj",
        "outputId": "2c386a1d-e90d-4a81-b140-a3b25ca3e61a"
      },
      "execution_count": null,
      "outputs": [
        {
          "output_type": "execute_result",
          "data": {
            "text/plain": [
              "<Axes: xlabel='FAVC', ylabel='Count'>"
            ]
          },
          "metadata": {},
          "execution_count": 6
        },
        {
          "output_type": "display_data",
          "data": {
            "text/plain": [
              "<Figure size 640x480 with 1 Axes>"
            ],
            "image/png": "[encoded data removed]"
          },
          "metadata": {}
        }
      ]
    },
    {
      "cell_type": "markdown",
      "source": [
        "- Histograma de *Habitos de consumo de productos con alto contenido calorico* (FAVC): Hay una marcada tendencia a dicho consumo. Mas del 75% de la poblacion muestra."
      ],
      "metadata": {
        "id": "4RImReb-sL5q"
      }
    },
    {
      "cell_type": "code",
      "source": [
        "sns.histplot(data=df_ob, x= 'family_history_with_overweight')"
      ],
      "metadata": {
        "colab": {
          "base_uri": "https://localhost:8080/",
          "height": 466
        },
        "id": "0T2hTW4Zpvx7",
        "outputId": "9515f13a-02ea-4c16-ae61-212ebb8f21e3"
      },
      "execution_count": null,
      "outputs": [
        {
          "output_type": "execute_result",
          "data": {
            "text/plain": [
              "<Axes: xlabel='family_history_with_overweight', ylabel='Count'>"
            ]
          },
          "metadata": {},
          "execution_count": 7
        },
        {
          "output_type": "display_data",
          "data": {
            "text/plain": [
              "<Figure size 640x480 with 1 Axes>"
            ],
            "image/png": "[encoded data removed]"
          },
          "metadata": {}
        }
      ]
    },
    {
      "cell_type": "markdown",
      "source": [
        "- Histograma de *Utilizacion de medios de transporte* (MTRANS): se evidencia que la muestra se encuentra concentrada en uso de automóvil y autobus. Mientras que todo lo referente a traslados a pie y/o en bicicleta son casi nulos."
      ],
      "metadata": {
        "id": "fph_k0G9UITM"
      }
    },
    {
      "cell_type": "code",
      "source": [
        "sns.histplot(data=df_ob, x= 'MTRANS')"
      ],
      "metadata": {
        "colab": {
          "base_uri": "https://localhost:8080/",
          "height": 466
        },
        "id": "xrVcG6LJTy8c",
        "outputId": "1607f1b6-7123-471f-d1be-2886ffe66422"
      },
      "execution_count": null,
      "outputs": [
        {
          "output_type": "execute_result",
          "data": {
            "text/plain": [
              "<Axes: xlabel='MTRANS', ylabel='Count'>"
            ]
          },
          "metadata": {},
          "execution_count": 8
        },
        {
          "output_type": "display_data",
          "data": {
            "text/plain": [
              "<Figure size 640x480 with 1 Axes>"
            ],
            "image/png": "[encoded data removed]"
          },
          "metadata": {}
        }
      ]
    },
    {
      "cell_type": "markdown",
      "source": [
        "### 3.4) *Visualizaciones Bivariadas*"
      ],
      "metadata": {
        "id": "S9T3uXa-Cfxp"
      }
    },
    {
      "cell_type": "markdown",
      "source": [
        "- Grafico de dispersion"
      ],
      "metadata": {
        "id": "NGCRg2F4Cxv9"
      }
    },
    {
      "cell_type": "code",
      "source": [
        "sns.scatterplot(data= df_ob, x= 'Age', y='Weight')"
      ],
      "metadata": {
        "colab": {
          "base_uri": "https://localhost:8080/",
          "height": 466
        },
        "id": "FAbzT08cxVFh",
        "outputId": "7930e9c5-444c-4a0e-bd71-d49a237e39d4"
      },
      "execution_count": null,
      "outputs": [
        {
          "output_type": "execute_result",
          "data": {
            "text/plain": [
              "<Axes: xlabel='Age', ylabel='Weight'>"
            ]
          },
          "metadata": {},
          "execution_count": 9
        },
        {
          "output_type": "display_data",
          "data": {
            "text/plain": [
              "<Figure size 640x480 with 1 Axes>"
            ],
            "image/png": "[encoded data removed]"
          },
          "metadata": {}
        }
      ]
    },
    {
      "cell_type": "markdown",
      "source": [
        "A traves del mismo podemos evidenciar la clara concentracion de datos de la muestra dentro del rango etario mas joven, indicando que el peso se comporta de mismo modo en este segmento"
      ],
      "metadata": {
        "id": "ot7Jb_MMGI3y"
      }
    },
    {
      "cell_type": "markdown",
      "source": [
        "- Gráfico de Linea"
      ],
      "metadata": {
        "id": "9UVkZLp_2D6G"
      }
    },
    {
      "cell_type": "code",
      "source": [
        "df_ob_2 = df_ob.groupby(by = 'CALC').mean()"
      ],
      "metadata": {
        "colab": {
          "base_uri": "https://localhost:8080/"
        },
        "id": "r3ya5hVux6LX",
        "outputId": "73e06d95-82c3-40be-e539-39a088c6b55c"
      },
      "execution_count": null,
      "outputs": [
        {
          "output_type": "stream",
          "name": "stderr",
          "text": [
            "<ipython-input-10-9cf5359ff049>:1: FutureWarning: The default value of numeric_only in DataFrameGroupBy.mean is deprecated. In a future version, numeric_only will default to False. Either specify numeric_only or select only columns which should be valid for the function.\n",
            "  df_ob_2 = df_ob.groupby(by = 'CALC').mean()\n"
          ]
        }
      ]
    },
    {
      "cell_type": "code",
      "source": [
        "df_ob_2"
      ],
      "metadata": {
        "colab": {
          "base_uri": "https://localhost:8080/",
          "height": 206
        },
        "id": "8mNsyXtY0bnp",
        "outputId": "699ab43b-bea5-4508-cba6-442954eb79d3"
      },
      "execution_count": null,
      "outputs": [
        {
          "output_type": "execute_result",
          "data": {
            "text/plain": [
              "                  Age    Height     Weight      FCVC       NCP      CH2O  \\\n",
              "CALC                                                                       \n",
              "Always      21.000000  1.700000  65.000000  2.000000  1.000000  2.000000   \n",
              "Frequently  27.141186  1.724605  80.679024  2.365273  2.605293  2.171616   \n",
              "Sometimes   24.256218  1.708788  91.425160  2.450509  2.740604  2.035168   \n",
              "no          24.131540  1.683579  76.657257  2.356601  2.576532  1.930560   \n",
              "\n",
              "                 FAF       TUE  \n",
              "CALC                            \n",
              "Always      1.000000  2.000000  \n",
              "Frequently  1.261653  0.858270  \n",
              "Sometimes   0.927882  0.613283  \n",
              "no          1.163474  0.731559  "
            ],
            "text/html": [
              "\n",
              "  <div id=\"df-bc41f94f-b922-4e3d-bf0e-147245384502\" class=\"colab-df-container\">\n",
              "    <div>\n",
              "<style scoped>\n",
              "    .dataframe tbody tr th:only-of-type {\n",
              "        vertical-align: middle;\n",
              "    }\n",
              "\n",
              "    .dataframe tbody tr th {\n",
              "        vertical-align: top;\n",
              "    }\n",
              "\n",
              "    .dataframe thead th {\n",
              "        text-align: right;\n",
              "    }\n",
              "</style>\n",
              "<table border=\"1\" class=\"dataframe\">\n",
              "  <thead>\n",
              "    <tr style=\"text-align: right;\">\n",
              "      <th></th>\n",
              "      <th>Age</th>\n",
              "      <th>Height</th>\n",
              "      <th>Weight</th>\n",
              "      <th>FCVC</th>\n",
              "      <th>NCP</th>\n",
              "      <th>CH2O</th>\n",
              "      <th>FAF</th>\n",
              "      <th>TUE</th>\n",
              "    </tr>\n",
              "    <tr>\n",
              "      <th>CALC</th>\n",
              "      <th></th>\n",
              "      <th></th>\n",
              "      <th></th>\n",
              "      <th></th>\n",
              "      <th></th>\n",
              "      <th></th>\n",
              "      <th></th>\n",
              "      <th></th>\n",
              "    </tr>\n",
              "  </thead>\n",
              "  <tbody>\n",
              "    <tr>\n",
              "      <th>Always</th>\n",
              "      <td>21.000000</td>\n",
              "      <td>1.700000</td>\n",
              "      <td>65.000000</td>\n",
              "      <td>2.000000</td>\n",
              "      <td>1.000000</td>\n",
              "      <td>2.000000</td>\n",
              "      <td>1.000000</td>\n",
              "      <td>2.000000</td>\n",
              "    </tr>\n",
              "    <tr>\n",
              "      <th>Frequently</th>\n",
              "      <td>27.141186</td>\n",
              "      <td>1.724605</td>\n",
              "      <td>80.679024</td>\n",
              "      <td>2.365273</td>\n",
              "      <td>2.605293</td>\n",
              "      <td>2.171616</td>\n",
              "      <td>1.261653</td>\n",
              "      <td>0.858270</td>\n",
              "    </tr>\n",
              "    <tr>\n",
              "      <th>Sometimes</th>\n",
              "      <td>24.256218</td>\n",
              "      <td>1.708788</td>\n",
              "      <td>91.425160</td>\n",
              "      <td>2.450509</td>\n",
              "      <td>2.740604</td>\n",
              "      <td>2.035168</td>\n",
              "      <td>0.927882</td>\n",
              "      <td>0.613283</td>\n",
              "    </tr>\n",
              "    <tr>\n",
              "      <th>no</th>\n",
              "      <td>24.131540</td>\n",
              "      <td>1.683579</td>\n",
              "      <td>76.657257</td>\n",
              "      <td>2.356601</td>\n",
              "      <td>2.576532</td>\n",
              "      <td>1.930560</td>\n",
              "      <td>1.163474</td>\n",
              "      <td>0.731559</td>\n",
              "    </tr>\n",
              "  </tbody>\n",
              "</table>\n",
              "</div>\n",
              "    <div class=\"colab-df-buttons\">\n",
              "\n",
              "  <div class=\"colab-df-container\">\n",
              "    <button class=\"colab-df-convert\" onclick=\"convertToInteractive('df-bc41f94f-b922-4e3d-bf0e-147245384502')\"\n",
              "            title=\"Convert this dataframe to an interactive table.\"\n",
              "            style=\"display:none;\">\n",
              "\n",
              "  <svg xmlns=\"http://www.w3.org/2000/svg\" height=\"24px\" viewBox=\"0 -960 960 960\">\n",
              "    <path d=\"M120-120v-720h720v720H120Zm60-500h600v-160H180v160Zm220 220h160v-160H400v160Zm0 220h160v-160H400v160ZM180-400h160v-160H180v160Zm440 0h160v-160H620v160ZM180-180h160v-160H180v160Zm440 0h160v-160H620v160Z\"/>\n",
              "  </svg>\n",
              "    </button>\n",
              "\n",
              "  <style>\n",
              "    .colab-df-container {\n",
              "      display:flex;\n",
              "      gap: 12px;\n",
              "    }\n",
              "\n",
              "    .colab-df-convert {\n",
              "      background-color: #E8F0FE;\n",
              "      border: none;\n",
              "      border-radius: 50%;\n",
              "      cursor: pointer;\n",
              "      display: none;\n",
              "      fill: #1967D2;\n",
              "      height: 32px;\n",
              "      padding: 0 0 0 0;\n",
              "      width: 32px;\n",
              "    }\n",
              "\n",
              "    .colab-df-convert:hover {\n",
              "      background-color: #E2EBFA;\n",
              "      box-shadow: 0px 1px 2px rgba(60, 64, 67, 0.3), 0px 1px 3px 1px rgba(60, 64, 67, 0.15);\n",
              "      fill: #174EA6;\n",
              "    }\n",
              "\n",
              "    .colab-df-buttons div {\n",
              "      margin-bottom: 4px;\n",
              "    }\n",
              "\n",
              "    [theme=dark] .colab-df-convert {\n",
              "      background-color: #3B4455;\n",
              "      fill: #D2E3FC;\n",
              "    }\n",
              "\n",
              "    [theme=dark] .colab-df-convert:hover {\n",
              "      background-color: #434B5C;\n",
              "      box-shadow: 0px 1px 3px 1px rgba(0, 0, 0, 0.15);\n",
              "      filter: drop-shadow(0px 1px 2px rgba(0, 0, 0, 0.3));\n",
              "      fill: #FFFFFF;\n",
              "    }\n",
              "  </style>\n",
              "\n",
              "    <script>\n",
              "      const buttonEl =\n",
              "        document.querySelector('#df-bc41f94f-b922-4e3d-bf0e-147245384502 button.colab-df-convert');\n",
              "      buttonEl.style.display =\n",
              "        google.colab.kernel.accessAllowed ? 'block' : 'none';\n",
              "\n",
              "      async function convertToInteractive(key) {\n",
              "        const element = document.querySelector('#df-bc41f94f-b922-4e3d-bf0e-147245384502');\n",
              "        const dataTable =\n",
              "          await google.colab.kernel.invokeFunction('convertToInteractive',\n",
              "                                                    [key], {});\n",
              "        if (!dataTable) return;\n",
              "\n",
              "        const docLinkHtml = 'Like what you see? Visit the ' +\n",
              "          '<a target=\"_blank\" href=https://colab.research.google.com/notebooks/data_table.ipynb>data table notebook</a>'\n",
              "          + ' to learn more about interactive tables.';\n",
              "        element.innerHTML = '';\n",
              "        dataTable['output_type'] = 'display_data';\n",
              "        await google.colab.output.renderOutput(dataTable, element);\n",
              "        const docLink = document.createElement('div');\n",
              "        docLink.innerHTML = docLinkHtml;\n",
              "        element.appendChild(docLink);\n",
              "      }\n",
              "    </script>\n",
              "  </div>\n",
              "\n",
              "\n",
              "<div id=\"df-dd0f3560-ac98-4bb7-a804-cb5de858d172\">\n",
              "  <button class=\"colab-df-quickchart\" onclick=\"quickchart('df-dd0f3560-ac98-4bb7-a804-cb5de858d172')\"\n",
              "            title=\"Suggest charts.\"\n",
              "            style=\"display:none;\">\n",
              "\n",
              "<svg xmlns=\"http://www.w3.org/2000/svg\" height=\"24px\"viewBox=\"0 0 24 24\"\n",
              "     width=\"24px\">\n",
              "    <g>\n",
              "        <path d=\"M19 3H5c-1.1 0-2 .9-2 2v14c0 1.1.9 2 2 2h14c1.1 0 2-.9 2-2V5c0-1.1-.9-2-2-2zM9 17H7v-7h2v7zm4 0h-2V7h2v10zm4 0h-2v-4h2v4z\"/>\n",
              "    </g>\n",
              "</svg>\n",
              "  </button>\n",
              "\n",
              "<style>\n",
              "  .colab-df-quickchart {\n",
              "      --bg-color: #E8F0FE;\n",
              "      --fill-color: #1967D2;\n",
              "      --hover-bg-color: #E2EBFA;\n",
              "      --hover-fill-color: #174EA6;\n",
              "      --disabled-fill-color: #AAA;\n",
              "      --disabled-bg-color: #DDD;\n",
              "  }\n",
              "\n",
              "  [theme=dark] .colab-df-quickchart {\n",
              "      --bg-color: #3B4455;\n",
              "      --fill-color: #D2E3FC;\n",
              "      --hover-bg-color: #434B5C;\n",
              "      --hover-fill-color: #FFFFFF;\n",
              "      --disabled-bg-color: #3B4455;\n",
              "      --disabled-fill-color: #666;\n",
              "  }\n",
              "\n",
              "  .colab-df-quickchart {\n",
              "    background-color: var(--bg-color);\n",
              "    border: none;\n",
              "    border-radius: 50%;\n",
              "    cursor: pointer;\n",
              "    display: none;\n",
              "    fill: var(--fill-color);\n",
              "    height: 32px;\n",
              "    padding: 0;\n",
              "    width: 32px;\n",
              "  }\n",
              "\n",
              "  .colab-df-quickchart:hover {\n",
              "    background-color: var(--hover-bg-color);\n",
              "    box-shadow: 0 1px 2px rgba(60, 64, 67, 0.3), 0 1px 3px 1px rgba(60, 64, 67, 0.15);\n",
              "    fill: var(--button-hover-fill-color);\n",
              "  }\n",
              "\n",
              "  .colab-df-quickchart-complete:disabled,\n",
              "  .colab-df-quickchart-complete:disabled:hover {\n",
              "    background-color: var(--disabled-bg-color);\n",
              "    fill: var(--disabled-fill-color);\n",
              "    box-shadow: none;\n",
              "  }\n",
              "\n",
              "  .colab-df-spinner {\n",
              "    border: 2px solid var(--fill-color);\n",
              "    border-color: transparent;\n",
              "    border-bottom-color: var(--fill-color);\n",
              "    animation:\n",
              "      spin 1s steps(1) infinite;\n",
              "  }\n",
              "\n",
              "  @keyframes spin {\n",
              "    0% {\n",
              "      border-color: transparent;\n",
              "      border-bottom-color: var(--fill-color);\n",
              "      border-left-color: var(--fill-color);\n",
              "    }\n",
              "    20% {\n",
              "      border-color: transparent;\n",
              "      border-left-color: var(--fill-color);\n",
              "      border-top-color: var(--fill-color);\n",
              "    }\n",
              "    30% {\n",
              "      border-color: transparent;\n",
              "      border-left-color: var(--fill-color);\n",
              "      border-top-color: var(--fill-color);\n",
              "      border-right-color: var(--fill-color);\n",
              "    }\n",
              "    40% {\n",
              "      border-color: transparent;\n",
              "      border-right-color: var(--fill-color);\n",
              "      border-top-color: var(--fill-color);\n",
              "    }\n",
              "    60% {\n",
              "      border-color: transparent;\n",
              "      border-right-color: var(--fill-color);\n",
              "    }\n",
              "    80% {\n",
              "      border-color: transparent;\n",
              "      border-right-color: var(--fill-color);\n",
              "      border-bottom-color: var(--fill-color);\n",
              "    }\n",
              "    90% {\n",
              "      border-color: transparent;\n",
              "      border-bottom-color: var(--fill-color);\n",
              "    }\n",
              "  }\n",
              "</style>\n",
              "\n",
              "  <script>\n",
              "    async function quickchart(key) {\n",
              "      const quickchartButtonEl =\n",
              "        document.querySelector('#' + key + ' button');\n",
              "      quickchartButtonEl.disabled = true;  // To prevent multiple clicks.\n",
              "      quickchartButtonEl.classList.add('colab-df-spinner');\n",
              "      try {\n",
              "        const charts = await google.colab.kernel.invokeFunction(\n",
              "            'suggestCharts', [key], {});\n",
              "      } catch (error) {\n",
              "        console.error('Error during call to suggestCharts:', error);\n",
              "      }\n",
              "      quickchartButtonEl.classList.remove('colab-df-spinner');\n",
              "      quickchartButtonEl.classList.add('colab-df-quickchart-complete');\n",
              "    }\n",
              "    (() => {\n",
              "      let quickchartButtonEl =\n",
              "        document.querySelector('#df-dd0f3560-ac98-4bb7-a804-cb5de858d172 button');\n",
              "      quickchartButtonEl.style.display =\n",
              "        google.colab.kernel.accessAllowed ? 'block' : 'none';\n",
              "    })();\n",
              "  </script>\n",
              "</div>\n",
              "    </div>\n",
              "  </div>\n"
            ]
          },
          "metadata": {},
          "execution_count": 11
        }
      ]
    },
    {
      "cell_type": "code",
      "source": [
        "sns.lineplot (data = df_ob_2, x='Age', y='Weight')"
      ],
      "metadata": {
        "colab": {
          "base_uri": "https://localhost:8080/",
          "height": 466
        },
        "id": "bblhld0w0g-t",
        "outputId": "921bcff8-ddae-4c4d-bc49-d3856b8367a1"
      },
      "execution_count": null,
      "outputs": [
        {
          "output_type": "execute_result",
          "data": {
            "text/plain": [
              "<Axes: xlabel='Age', ylabel='Weight'>"
            ]
          },
          "metadata": {},
          "execution_count": 12
        },
        {
          "output_type": "display_data",
          "data": {
            "text/plain": [
              "<Figure size 640x480 with 1 Axes>"
            ],
            "image/png": "[encoded data removed]"
          },
          "metadata": {}
        }
      ]
    },
    {
      "cell_type": "markdown",
      "source": [
        "¿Como impacta el consumo de alcohol en el peso de una persona?\n",
        "\n",
        "A mas temprana edad el consumo es mayor e impacta directamente sobre el peso. A medida que avanzamos en edad el consumo cae (mejor calidad de vida).\n",
        "Podemos observar como a medida que incrementa la ingesta de alcohol, el peso comienza a incrementar. Por lo cual podemos definir que la relacion entre estas dos variables tienen un impacto directo sobre el determinante que definirá el IMC de una persona."
      ],
      "metadata": {
        "id": "ZAhZEYPwGVye"
      }
    },
    {
      "cell_type": "markdown",
      "source": [
        "- Grafico de Barras:"
      ],
      "metadata": {
        "id": "CLiLTJEJ5UJO"
      }
    },
    {
      "cell_type": "code",
      "source": [
        "df_ob_5 = df_ob[['Weight','Gender','NObeyesdad']].groupby(by=['Gender','NObeyesdad']).count().reset_index()\n",
        "df_ob_5.head()\n",
        "plt.figure(figsize=(10,6))\n",
        "sns.barplot(y='Weight', x='Gender', hue='NObeyesdad', data = df_ob_5);"
      ],
      "metadata": {
        "colab": {
          "base_uri": "https://localhost:8080/",
          "height": 541
        },
        "id": "dIIH4_Lk8Mmv",
        "outputId": "593a0924-588f-47f0-e9db-0d9c34731568"
      },
      "execution_count": null,
      "outputs": [
        {
          "output_type": "display_data",
          "data": {
            "text/plain": [
              "<Figure size 1000x600 with 1 Axes>"
            ],
            "image/png": "[encoded data removed]"
          },
          "metadata": {}
        }
      ]
    },
    {
      "cell_type": "markdown",
      "source": [
        "De la interpretacion de este grafico puedo inferir que la mayor incidencia segun los datos recolectados se pueden evidenciar en el muestreo de Genero femenino. En donde hay mayor cantidad de casos de obesidad Tipo III. Tambien es para mencionar que se infiere mayor registro de casos de peso insuficiente."
      ],
      "metadata": {
        "id": "GG4n0P1vGeE1"
      }
    },
    {
      "cell_type": "code",
      "source": [
        "df_ob_6= df_ob[['Weight','MTRANS','Gender']].groupby(by=['MTRANS','Gender']).count().reset_index()\n",
        "plt.figure(figsize=(10,6))\n",
        "sns.barplot(y='Weight', x='MTRANS', hue='Gender', data = df_ob_6)\n",
        "plt.ylabel('count')\n",
        "plt.show()"
      ],
      "metadata": {
        "colab": {
          "base_uri": "https://localhost:8080/",
          "height": 541
        },
        "id": "ZFDnwDbPQP9l",
        "outputId": "a2f96d8a-4232-4856-add6-4236a213c4f6"
      },
      "execution_count": null,
      "outputs": [
        {
          "output_type": "display_data",
          "data": {
            "text/plain": [
              "<Figure size 1000x600 with 1 Axes>"
            ],
            "image/png": "[encoded data removed]"
          },
          "metadata": {}
        }
      ]
    },
    {
      "cell_type": "markdown",
      "source": [
        "## **4) RECOMENDACIONES C/BASE EN INSIGHTS OBSERVADOS**"
      ],
      "metadata": {
        "id": "O8rRTCfrLod_"
      }
    },
    {
      "cell_type": "markdown",
      "source": [
        "- En funcion de lo analizado y con evidencia en la concentracion de la muestra dentro del rango de edades tempranas, es necesario incrementar la informacion brindada en las escuelas de la importancia de poder llevar una alimentacion equilibrada y sana.\n",
        "\n",
        "- Tambien he detectado que el consumo de alcohol es uno de los factores determinantes de los indices de obesidad, sobrepeso o peso por debajo de lo normal. Y que sus consecuencias no impactan solo en el aspecto del peso de una persona, sino directamente sobre su desarrollo cognitivo e intelectual. Este punto aun reviste de una mayor importancia, en lo referido a educacion y control en la venta de productos alcoholicos.\n",
        "\n",
        "- La actividad fisica es otro de los factores clave, para poder estar dentro de valores normales de peso. Conjuntamente con las recomendaciones previas, es indispensable estar en movimiento y evitar una vida sedentaria.\n",
        "\n",
        "- Una pequeña parte de la muestra indica que en relacion al genero masculino, que el genero femenino se desplaza a pie en menor proporcion. Lo que justificaria tambien en una determinada medida al mayor indice de sobrepeso/obesidad.\n",
        "\n",
        "- Al desplazarse en una gran proporcion por automobil y autobus, tambien infiero que es un causal de la tendencia de sobrepeso & obesidad de la muestra. Por lo cual, diseñaria politicas para fomentar el uso de bicicletas para lograr un impacto positivo en la salud de las personas."
      ],
      "metadata": {
        "id": "pnqcYH9PMF-d"
      }
    },
    {
      "cell_type": "markdown",
      "source": [
        "## **5) SECCIONES**"
      ],
      "metadata": {
        "id": "54LPrGPoXVxh"
      }
    },
    {
      "cell_type": "markdown",
      "source": [
        "#### *5.1) OBJETIVO*\n",
        "\n",
        "¿Como poder contribuir para mejorar la calidad de vida de la poblacion?"
      ],
      "metadata": {
        "id": "H5SV774kXfLw"
      }
    },
    {
      "cell_type": "markdown",
      "source": [
        "#### *5.2) CONTEXTO COMERCIAL*\n",
        "\n",
        "La poblacion seleccionada fue obtenida por encuestas realizadas en ciudades de Barranquilla, Lima y Distrito Federal. En donde hay un alto indice de niveles de sobrepeso y obesidad en adolescentes, detectando que una de las principales causas esta vinculada al consumo elevado de alcohol."
      ],
      "metadata": {
        "id": "3pjU6RsLamUe"
      }
    },
    {
      "cell_type": "markdown",
      "source": [
        "#### *5.3) PROBLEMA COMERCIAL*\n",
        "\n",
        "- ¿Cual es el rango etario con mayor incidencia?\n",
        "- ¿Cual es la proporcion del (IMC) por genero?\n",
        "- ¿Que tan sedentaria es la poblacion? ¿Cual es su proporcion en cada genero?\n",
        "- ¿Cual es la porcion fumadora de la poblacion?\n",
        "- ¿Los antecedentes familiares son factores determinantes del IMC?\n",
        "- ¿Cuales son los 5 factores determinantes de una buena calidad de vida?   "
      ],
      "metadata": {
        "id": "S9-HmgkxcS9X"
      }
    },
    {
      "cell_type": "markdown",
      "source": [
        "#### *5.4) CONTEXTO ANALITICO*\n",
        "\n",
        "Trabaje sobre un archivo .CSV (almacenado en el GDrive) que contiene detalles sobre muestreo de una poblacion de Centroamerica con rango etario de entre 14 a 61 años. Abarca data respecto:\n",
        "\n",
        "- Gender, Age, Height y Weight\n",
        "- Habitos alimenticios tales como: Frequent consumption of high caloric food (FAVC), Frequency of consumption of vegetables (FCVC), Number of main meals (NCP), Consumption of food between meals (CAEC), Consumption of water daily (CH20), and Consumption of alcohol (CALC).\n",
        "- Habitos de condicion fisica, como ser: Calories consumption monitoring (SCC), Physical activity frequency (FAF), Time using technology devices (TUE), Transportation used (MTRANS).\n",
        "- Variable NObesity (Mass Body Index): Insufficient Weight, Normal Weight, Overweight Level I, Overweight Level II, Obesity Type I, Obesity Type II y Obesity Type III.\n"
      ],
      "metadata": {
        "id": "7l47XKCKfgYD"
      }
    },
    {
      "cell_type": "markdown",
      "source": [
        "##### *5.4.1) DATOS/COLUMNAS DE INTERES*\n",
        "\n",
        "- Gender: Sexo\n",
        "- Age: Edad\n",
        "- Height: Altura\n",
        "- Weight: Peso\n",
        "- Family History_with_overweight: Antecedentes familiares\n",
        "- (FAVC): Frequent consumption of high caloric food\n",
        "- (FCVC): Frequency of consumption of vegetables\n",
        "- (NCP): Number of main meals\n",
        "- (CAEC): Consumption of food between meals\n",
        "- (CH20): Consumption of water daily  \n",
        "- (CALC): Consumption of alcohol\n",
        "- (SCC): Calories consumption monitoring\n",
        "- (FAF): Physical activity frequency\n",
        "- (TUE): Time using technology devices\n",
        "- (MTRANS): Transportation used\n",
        "- (NObesity): Mass Body Index"
      ],
      "metadata": {
        "id": "15rDaVmkjd2b"
      }
    },
    {
      "cell_type": "markdown",
      "source": [
        "![Sin título.jpg](data:image/jpeg;base64,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)"
      ],
      "metadata": {
        "id": "qdfz3vX0maF4"
      }
    },
    {
      "cell_type": "markdown",
      "source": [
        "#### *5.4) EXPLORATORY DATA ANALYSIS (EDA)*\n",
        "\n",
        "- Surge de la interpretacion de las visualizaciones que para toda la muestra los valores con mayor predominancia se dan para el Genero Femenino, tanto en lo que respecta a Peso por debajo de los valores normales; como asi tambien en lo referente al grupo de Obesidad de Tipo III (entendiendo a la misma a la mas perjudicial para la salud). Por otro lado, se denota una incidencia dentro del grupo de sobrepeso de tipo II con predominancia en el genero Masculino.\n",
        "\n",
        "- Los valores extremos los hallamos en los grupos de edades mas jovenes registrando la mayor proporcion de poblacion con pesos mas elevados. Podemos definir que en edades de 18 - 22 y 28 se dan los extremos.\n",
        "\n",
        "- Tambien se evidencia que estamos frente a una poblacion sedentaria, ya que la mayor proporcion de la misma no posee habitos de ejercicio fisico, se registra casi un 50% de la muestra total con una frecuencia nula de ejercicio fisico y tambien tienden a desplazarse por automovil o autobus, sin considerar el uso de bicicletas o simplemente caminar.\n",
        "\n",
        "- El consumo de alcohol es otro de los factores determinantes en la calidad de vida de la poblacion muestra y coincide tambien que la mayor proporcion de la misma, se visualizar sobre el rango etario de 18 a 26 años.\n",
        "\n",
        "- Conjuntamente con el punto anterior, es peligroso el habito de ingesta de alimentos con alto contenido calorico y en conjunto con los factores mencionados previamente estamos frente a una poblacion con alto riesgo que puede derivar en enfermedades cardiovasculares.\n",
        "\n",
        "- La poblacion evidencia un alto porcentaje - 75% - con incidencia de antecedentes familiares respecto a tendencia de Obesidad o Sobrepeso.\n",
        "\n",
        "\n",
        "\n",
        "\n"
      ],
      "metadata": {
        "id": "k6Ou9gKhnhhK"
      }
    },
    {
      "cell_type": "markdown",
      "source": [
        "## **6) Eleccion de metodo de Feature Selection**"
      ],
      "metadata": {
        "id": "OCMxS8LjO4uW"
      }
    },
    {
      "cell_type": "markdown",
      "source": [
        "Para contextualizar y orientar el modelo para que interprete los datos con el objetivo de analizar como impactan los habitos de una persona en el peso y por ende en su clasificacion en los distintos niveles de Indice de Masa Corporal.\n",
        "\n",
        "Para ello voy a considerar para mi modelo:\n",
        "\n",
        "*Como variables predictoras:*\n",
        "- Genero (Gender)\n",
        "- Edad (Age)\n",
        "- Peso (Weight)\n",
        "- Antecedentes familiares (Family History_with_overweight)\n",
        "- Consumo comidas caloricas (FAVC)\n",
        "- Fuma (SMOKE)\n",
        "- Actividad fisica (FAF)\n",
        "- Consumo Alcohol (CALC)\n",
        "\n",
        "*Como variable objetivo (a predecir):*\n",
        "- Indice Masa Corporal (NObeyesdad)\n"
      ],
      "metadata": {
        "id": "lboOEvDRPSdW"
      }
    },
    {
      "cell_type": "markdown",
      "source": [
        "## **7) Eleccion de Algoritmo**\n",
        "Para mi analisis voy a escoger el metodo de regresion logistica"
      ],
      "metadata": {
        "id": "BMFKJqjuPVtt"
      }
    },
    {
      "cell_type": "markdown",
      "source": [
        "### *Carga de Librerias*"
      ],
      "metadata": {
        "id": "kS4SJRh_PbSZ"
      }
    },
    {
      "cell_type": "code",
      "source": [
        "import matplotlib as mpl\n",
        "import matplotlib.pyplot as plt\n",
        "import seaborn as sns\n",
        "import statsmodels.formula.api as sm\n",
        "import pandas as pd\n",
        "import numpy as np\n",
        "mpl.style.use('bmh')"
      ],
      "metadata": {
        "id": "VOOKPb1KPiwO"
      },
      "execution_count": null,
      "outputs": []
    },
    {
      "cell_type": "markdown",
      "source": [
        "### *Carga DS (Obesidad)*"
      ],
      "metadata": {
        "id": "F66H6fCYPmeU"
      }
    },
    {
      "cell_type": "code",
      "source": [
        "import pandas as pd\n",
        "obesidad = pd.read_csv(\"/content/drive/MyDrive/CODERHOUSE/DATA SCIENCE/DESAFIO I/ObesityDataSet_raw_and_data_sinthetic.csv\")\n",
        "obesidad.head()"
      ],
      "metadata": {
        "id": "1-0vBITXPnrL",
        "colab": {
          "base_uri": "https://localhost:8080/",
          "height": 226
        },
        "outputId": "8a232c7f-efae-46a1-b729-1f163081a923"
      },
      "execution_count": null,
      "outputs": [
        {
          "output_type": "execute_result",
          "data": {
            "text/plain": [
              "   Gender   Age  Height  Weight family_history_with_overweight FAVC  FCVC  \\\n",
              "0  Female  21.0    1.62    64.0                            yes   no   2.0   \n",
              "1  Female  21.0    1.52    56.0                            yes   no   3.0   \n",
              "2    Male  23.0    1.80    77.0                            yes   no   2.0   \n",
              "3    Male  27.0    1.80    87.0                             no   no   3.0   \n",
              "4    Male  22.0    1.78    89.8                             no   no   2.0   \n",
              "\n",
              "   NCP       CAEC SMOKE  CH2O  SCC  FAF  TUE        CALC  \\\n",
              "0  3.0  Sometimes    no   2.0   no  0.0  1.0          no   \n",
              "1  3.0  Sometimes   yes   3.0  yes  3.0  0.0   Sometimes   \n",
              "2  3.0  Sometimes    no   2.0   no  2.0  1.0  Frequently   \n",
              "3  3.0  Sometimes    no   2.0   no  2.0  0.0  Frequently   \n",
              "4  1.0  Sometimes    no   2.0   no  0.0  0.0   Sometimes   \n",
              "\n",
              "                  MTRANS           NObeyesdad  \n",
              "0  Public_Transportation        Normal_Weight  \n",
              "1  Public_Transportation        Normal_Weight  \n",
              "2  Public_Transportation        Normal_Weight  \n",
              "3                Walking   Overweight_Level_I  \n",
              "4  Public_Transportation  Overweight_Level_II  "
            ],
            "text/html": [
              "\n",
              "  <div id=\"df-ebb5f368-4094-4acb-9306-99f5cd667d1a\" class=\"colab-df-container\">\n",
              "    <div>\n",
              "<style scoped>\n",
              "    .dataframe tbody tr th:only-of-type {\n",
              "        vertical-align: middle;\n",
              "    }\n",
              "\n",
              "    .dataframe tbody tr th {\n",
              "        vertical-align: top;\n",
              "    }\n",
              "\n",
              "    .dataframe thead th {\n",
              "        text-align: right;\n",
              "    }\n",
              "</style>\n",
              "<table border=\"1\" class=\"dataframe\">\n",
              "  <thead>\n",
              "    <tr style=\"text-align: right;\">\n",
              "      <th></th>\n",
              "      <th>Gender</th>\n",
              "      <th>Age</th>\n",
              "      <th>Height</th>\n",
              "      <th>Weight</th>\n",
              "      <th>family_history_with_overweight</th>\n",
              "      <th>FAVC</th>\n",
              "      <th>FCVC</th>\n",
              "      <th>NCP</th>\n",
              "      <th>CAEC</th>\n",
              "      <th>SMOKE</th>\n",
              "      <th>CH2O</th>\n",
              "      <th>SCC</th>\n",
              "      <th>FAF</th>\n",
              "      <th>TUE</th>\n",
              "      <th>CALC</th>\n",
              "      <th>MTRANS</th>\n",
              "      <th>NObeyesdad</th>\n",
              "    </tr>\n",
              "  </thead>\n",
              "  <tbody>\n",
              "    <tr>\n",
              "      <th>0</th>\n",
              "      <td>Female</td>\n",
              "      <td>21.0</td>\n",
              "      <td>1.62</td>\n",
              "      <td>64.0</td>\n",
              "      <td>yes</td>\n",
              "      <td>no</td>\n",
              "      <td>2.0</td>\n",
              "      <td>3.0</td>\n",
              "      <td>Sometimes</td>\n",
              "      <td>no</td>\n",
              "      <td>2.0</td>\n",
              "      <td>no</td>\n",
              "      <td>0.0</td>\n",
              "      <td>1.0</td>\n",
              "      <td>no</td>\n",
              "      <td>Public_Transportation</td>\n",
              "      <td>Normal_Weight</td>\n",
              "    </tr>\n",
              "    <tr>\n",
              "      <th>1</th>\n",
              "      <td>Female</td>\n",
              "      <td>21.0</td>\n",
              "      <td>1.52</td>\n",
              "      <td>56.0</td>\n",
              "      <td>yes</td>\n",
              "      <td>no</td>\n",
              "      <td>3.0</td>\n",
              "      <td>3.0</td>\n",
              "      <td>Sometimes</td>\n",
              "      <td>yes</td>\n",
              "      <td>3.0</td>\n",
              "      <td>yes</td>\n",
              "      <td>3.0</td>\n",
              "      <td>0.0</td>\n",
              "      <td>Sometimes</td>\n",
              "      <td>Public_Transportation</td>\n",
              "      <td>Normal_Weight</td>\n",
              "    </tr>\n",
              "    <tr>\n",
              "      <th>2</th>\n",
              "      <td>Male</td>\n",
              "      <td>23.0</td>\n",
              "      <td>1.80</td>\n",
              "      <td>77.0</td>\n",
              "      <td>yes</td>\n",
              "      <td>no</td>\n",
              "      <td>2.0</td>\n",
              "      <td>3.0</td>\n",
              "      <td>Sometimes</td>\n",
              "      <td>no</td>\n",
              "      <td>2.0</td>\n",
              "      <td>no</td>\n",
              "      <td>2.0</td>\n",
              "      <td>1.0</td>\n",
              "      <td>Frequently</td>\n",
              "      <td>Public_Transportation</td>\n",
              "      <td>Normal_Weight</td>\n",
              "    </tr>\n",
              "    <tr>\n",
              "      <th>3</th>\n",
              "      <td>Male</td>\n",
              "      <td>27.0</td>\n",
              "      <td>1.80</td>\n",
              "      <td>87.0</td>\n",
              "      <td>no</td>\n",
              "      <td>no</td>\n",
              "      <td>3.0</td>\n",
              "      <td>3.0</td>\n",
              "      <td>Sometimes</td>\n",
              "      <td>no</td>\n",
              "      <td>2.0</td>\n",
              "      <td>no</td>\n",
              "      <td>2.0</td>\n",
              "      <td>0.0</td>\n",
              "      <td>Frequently</td>\n",
              "      <td>Walking</td>\n",
              "      <td>Overweight_Level_I</td>\n",
              "    </tr>\n",
              "    <tr>\n",
              "      <th>4</th>\n",
              "      <td>Male</td>\n",
              "      <td>22.0</td>\n",
              "      <td>1.78</td>\n",
              "      <td>89.8</td>\n",
              "      <td>no</td>\n",
              "      <td>no</td>\n",
              "      <td>2.0</td>\n",
              "      <td>1.0</td>\n",
              "      <td>Sometimes</td>\n",
              "      <td>no</td>\n",
              "      <td>2.0</td>\n",
              "      <td>no</td>\n",
              "      <td>0.0</td>\n",
              "      <td>0.0</td>\n",
              "      <td>Sometimes</td>\n",
              "      <td>Public_Transportation</td>\n",
              "      <td>Overweight_Level_II</td>\n",
              "    </tr>\n",
              "  </tbody>\n",
              "</table>\n",
              "</div>\n",
              "    <div class=\"colab-df-buttons\">\n",
              "\n",
              "  <div class=\"colab-df-container\">\n",
              "    <button class=\"colab-df-convert\" onclick=\"convertToInteractive('df-ebb5f368-4094-4acb-9306-99f5cd667d1a')\"\n",
              "            title=\"Convert this dataframe to an interactive table.\"\n",
              "            style=\"display:none;\">\n",
              "\n",
              "  <svg xmlns=\"http://www.w3.org/2000/svg\" height=\"24px\" viewBox=\"0 -960 960 960\">\n",
              "    <path d=\"M120-120v-720h720v720H120Zm60-500h600v-160H180v160Zm220 220h160v-160H400v160Zm0 220h160v-160H400v160ZM180-400h160v-160H180v160Zm440 0h160v-160H620v160ZM180-180h160v-160H180v160Zm440 0h160v-160H620v160Z\"/>\n",
              "  </svg>\n",
              "    </button>\n",
              "\n",
              "  <style>\n",
              "    .colab-df-container {\n",
              "      display:flex;\n",
              "      gap: 12px;\n",
              "    }\n",
              "\n",
              "    .colab-df-convert {\n",
              "      background-color: #E8F0FE;\n",
              "      border: none;\n",
              "      border-radius: 50%;\n",
              "      cursor: pointer;\n",
              "      display: none;\n",
              "      fill: #1967D2;\n",
              "      height: 32px;\n",
              "      padding: 0 0 0 0;\n",
              "      width: 32px;\n",
              "    }\n",
              "\n",
              "    .colab-df-convert:hover {\n",
              "      background-color: #E2EBFA;\n",
              "      box-shadow: 0px 1px 2px rgba(60, 64, 67, 0.3), 0px 1px 3px 1px rgba(60, 64, 67, 0.15);\n",
              "      fill: #174EA6;\n",
              "    }\n",
              "\n",
              "    .colab-df-buttons div {\n",
              "      margin-bottom: 4px;\n",
              "    }\n",
              "\n",
              "    [theme=dark] .colab-df-convert {\n",
              "      background-color: #3B4455;\n",
              "      fill: #D2E3FC;\n",
              "    }\n",
              "\n",
              "    [theme=dark] .colab-df-convert:hover {\n",
              "      background-color: #434B5C;\n",
              "      box-shadow: 0px 1px 3px 1px rgba(0, 0, 0, 0.15);\n",
              "      filter: drop-shadow(0px 1px 2px rgba(0, 0, 0, 0.3));\n",
              "      fill: #FFFFFF;\n",
              "    }\n",
              "  </style>\n",
              "\n",
              "    <script>\n",
              "      const buttonEl =\n",
              "        document.querySelector('#df-ebb5f368-4094-4acb-9306-99f5cd667d1a button.colab-df-convert');\n",
              "      buttonEl.style.display =\n",
              "        google.colab.kernel.accessAllowed ? 'block' : 'none';\n",
              "\n",
              "      async function convertToInteractive(key) {\n",
              "        const element = document.querySelector('#df-ebb5f368-4094-4acb-9306-99f5cd667d1a');\n",
              "        const dataTable =\n",
              "          await google.colab.kernel.invokeFunction('convertToInteractive',\n",
              "                                                    [key], {});\n",
              "        if (!dataTable) return;\n",
              "\n",
              "        const docLinkHtml = 'Like what you see? Visit the ' +\n",
              "          '<a target=\"_blank\" href=https://colab.research.google.com/notebooks/data_table.ipynb>data table notebook</a>'\n",
              "          + ' to learn more about interactive tables.';\n",
              "        element.innerHTML = '';\n",
              "        dataTable['output_type'] = 'display_data';\n",
              "        await google.colab.output.renderOutput(dataTable, element);\n",
              "        const docLink = document.createElement('div');\n",
              "        docLink.innerHTML = docLinkHtml;\n",
              "        element.appendChild(docLink);\n",
              "      }\n",
              "    </script>\n",
              "  </div>\n",
              "\n",
              "\n",
              "<div id=\"df-ebefde8e-4e8f-4dc7-b43c-ddafd96b2465\">\n",
              "  <button class=\"colab-df-quickchart\" onclick=\"quickchart('df-ebefde8e-4e8f-4dc7-b43c-ddafd96b2465')\"\n",
              "            title=\"Suggest charts.\"\n",
              "            style=\"display:none;\">\n",
              "\n",
              "<svg xmlns=\"http://www.w3.org/2000/svg\" height=\"24px\"viewBox=\"0 0 24 24\"\n",
              "     width=\"24px\">\n",
              "    <g>\n",
              "        <path d=\"M19 3H5c-1.1 0-2 .9-2 2v14c0 1.1.9 2 2 2h14c1.1 0 2-.9 2-2V5c0-1.1-.9-2-2-2zM9 17H7v-7h2v7zm4 0h-2V7h2v10zm4 0h-2v-4h2v4z\"/>\n",
              "    </g>\n",
              "</svg>\n",
              "  </button>\n",
              "\n",
              "<style>\n",
              "  .colab-df-quickchart {\n",
              "      --bg-color: #E8F0FE;\n",
              "      --fill-color: #1967D2;\n",
              "      --hover-bg-color: #E2EBFA;\n",
              "      --hover-fill-color: #174EA6;\n",
              "      --disabled-fill-color: #AAA;\n",
              "      --disabled-bg-color: #DDD;\n",
              "  }\n",
              "\n",
              "  [theme=dark] .colab-df-quickchart {\n",
              "      --bg-color: #3B4455;\n",
              "      --fill-color: #D2E3FC;\n",
              "      --hover-bg-color: #434B5C;\n",
              "      --hover-fill-color: #FFFFFF;\n",
              "      --disabled-bg-color: #3B4455;\n",
              "      --disabled-fill-color: #666;\n",
              "  }\n",
              "\n",
              "  .colab-df-quickchart {\n",
              "    background-color: var(--bg-color);\n",
              "    border: none;\n",
              "    border-radius: 50%;\n",
              "    cursor: pointer;\n",
              "    display: none;\n",
              "    fill: var(--fill-color);\n",
              "    height: 32px;\n",
              "    padding: 0;\n",
              "    width: 32px;\n",
              "  }\n",
              "\n",
              "  .colab-df-quickchart:hover {\n",
              "    background-color: var(--hover-bg-color);\n",
              "    box-shadow: 0 1px 2px rgba(60, 64, 67, 0.3), 0 1px 3px 1px rgba(60, 64, 67, 0.15);\n",
              "    fill: var(--button-hover-fill-color);\n",
              "  }\n",
              "\n",
              "  .colab-df-quickchart-complete:disabled,\n",
              "  .colab-df-quickchart-complete:disabled:hover {\n",
              "    background-color: var(--disabled-bg-color);\n",
              "    fill: var(--disabled-fill-color);\n",
              "    box-shadow: none;\n",
              "  }\n",
              "\n",
              "  .colab-df-spinner {\n",
              "    border: 2px solid var(--fill-color);\n",
              "    border-color: transparent;\n",
              "    border-bottom-color: var(--fill-color);\n",
              "    animation:\n",
              "      spin 1s steps(1) infinite;\n",
              "  }\n",
              "\n",
              "  @keyframes spin {\n",
              "    0% {\n",
              "      border-color: transparent;\n",
              "      border-bottom-color: var(--fill-color);\n",
              "      border-left-color: var(--fill-color);\n",
              "    }\n",
              "    20% {\n",
              "      border-color: transparent;\n",
              "      border-left-color: var(--fill-color);\n",
              "      border-top-color: var(--fill-color);\n",
              "    }\n",
              "    30% {\n",
              "      border-color: transparent;\n",
              "      border-left-color: var(--fill-color);\n",
              "      border-top-color: var(--fill-color);\n",
              "      border-right-color: var(--fill-color);\n",
              "    }\n",
              "    40% {\n",
              "      border-color: transparent;\n",
              "      border-right-color: var(--fill-color);\n",
              "      border-top-color: var(--fill-color);\n",
              "    }\n",
              "    60% {\n",
              "      border-color: transparent;\n",
              "      border-right-color: var(--fill-color);\n",
              "    }\n",
              "    80% {\n",
              "      border-color: transparent;\n",
              "      border-right-color: var(--fill-color);\n",
              "      border-bottom-color: var(--fill-color);\n",
              "    }\n",
              "    90% {\n",
              "      border-color: transparent;\n",
              "      border-bottom-color: var(--fill-color);\n",
              "    }\n",
              "  }\n",
              "</style>\n",
              "\n",
              "  <script>\n",
              "    async function quickchart(key) {\n",
              "      const quickchartButtonEl =\n",
              "        document.querySelector('#' + key + ' button');\n",
              "      quickchartButtonEl.disabled = true;  // To prevent multiple clicks.\n",
              "      quickchartButtonEl.classList.add('colab-df-spinner');\n",
              "      try {\n",
              "        const charts = await google.colab.kernel.invokeFunction(\n",
              "            'suggestCharts', [key], {});\n",
              "      } catch (error) {\n",
              "        console.error('Error during call to suggestCharts:', error);\n",
              "      }\n",
              "      quickchartButtonEl.classList.remove('colab-df-spinner');\n",
              "      quickchartButtonEl.classList.add('colab-df-quickchart-complete');\n",
              "    }\n",
              "    (() => {\n",
              "      let quickchartButtonEl =\n",
              "        document.querySelector('#df-ebefde8e-4e8f-4dc7-b43c-ddafd96b2465 button');\n",
              "      quickchartButtonEl.style.display =\n",
              "        google.colab.kernel.accessAllowed ? 'block' : 'none';\n",
              "    })();\n",
              "  </script>\n",
              "</div>\n",
              "    </div>\n",
              "  </div>\n"
            ]
          },
          "metadata": {},
          "execution_count": 3
        }
      ]
    },
    {
      "cell_type": "code",
      "source": [
        "obe = obesidad.groupby(['CAEC'])['CAEC'].count()"
      ],
      "metadata": {
        "id": "muC7_EpjOhzD"
      },
      "execution_count": null,
      "outputs": []
    },
    {
      "cell_type": "code",
      "source": [
        "obe"
      ],
      "metadata": {
        "colab": {
          "base_uri": "https://localhost:8080/"
        },
        "id": "wNZVX9UiQfXk",
        "outputId": "3c45e879-3074-4d83-8859-8f0ffd164c7c"
      },
      "execution_count": null,
      "outputs": [
        {
          "output_type": "execute_result",
          "data": {
            "text/plain": [
              "CAEC\n",
              "Always          53\n",
              "Frequently     242\n",
              "Sometimes     1765\n",
              "no              51\n",
              "Name: CAEC, dtype: int64"
            ]
          },
          "metadata": {},
          "execution_count": 5
        }
      ]
    },
    {
      "cell_type": "code",
      "source": [
        "obe2 = obesidad.groupby(['MTRANS'])['MTRANS'].count()\n",
        "obe2"
      ],
      "metadata": {
        "colab": {
          "base_uri": "https://localhost:8080/"
        },
        "id": "mJPq8zczR3JI",
        "outputId": "4dfa4709-5000-4ff0-d776-07e511dd70af"
      },
      "execution_count": null,
      "outputs": [
        {
          "output_type": "execute_result",
          "data": {
            "text/plain": [
              "MTRANS\n",
              "Automobile                457\n",
              "Bike                        7\n",
              "Motorbike                  11\n",
              "Public_Transportation    1580\n",
              "Walking                    56\n",
              "Name: MTRANS, dtype: int64"
            ]
          },
          "metadata": {},
          "execution_count": 53
        }
      ]
    },
    {
      "cell_type": "code",
      "source": [
        "obe3 = obesidad.groupby(['SCC'])['SCC'].count()\n",
        "obe3"
      ],
      "metadata": {
        "colab": {
          "base_uri": "https://localhost:8080/"
        },
        "id": "gHpuFlkxSyJz",
        "outputId": "afe29ae2-2e43-4de7-9d47-c1e3e0305f05"
      },
      "execution_count": null,
      "outputs": [
        {
          "output_type": "execute_result",
          "data": {
            "text/plain": [
              "SCC\n",
              "no     2015\n",
              "yes      96\n",
              "Name: SCC, dtype: int64"
            ]
          },
          "metadata": {},
          "execution_count": 54
        }
      ]
    },
    {
      "cell_type": "code",
      "source": [
        "obe4 = obesidad.groupby(['FAF'])['FAF'].count()\n",
        "obe4"
      ],
      "metadata": {
        "colab": {
          "base_uri": "https://localhost:8080/"
        },
        "id": "ZeMjIFACTasH",
        "outputId": "91b1c0f0-f6b8-4c4f-e1ff-eb08b0b3f0e7"
      },
      "execution_count": null,
      "outputs": [
        {
          "output_type": "execute_result",
          "data": {
            "text/plain": [
              "FAF\n",
              "0.000000    411\n",
              "0.000096      1\n",
              "0.000272      1\n",
              "0.000454      1\n",
              "0.001015      1\n",
              "           ... \n",
              "2.939733      1\n",
              "2.971832      1\n",
              "2.998981      1\n",
              "2.999918      1\n",
              "3.000000     75\n",
              "Name: FAF, Length: 1190, dtype: int64"
            ]
          },
          "metadata": {},
          "execution_count": 57
        }
      ]
    },
    {
      "cell_type": "markdown",
      "source": [
        "### *Manipulacion y limpieza de datos previo al modelado*"
      ],
      "metadata": {
        "id": "Ft_QzD2bPs6P"
      }
    },
    {
      "cell_type": "markdown",
      "source": [
        "Realizo la parametrizacion de datos para transformar y que el modelo pueda funcionar sin errores"
      ],
      "metadata": {
        "id": "WMzqZG1LEDkI"
      }
    },
    {
      "cell_type": "code",
      "source": [
        "obesidad['Gender']= obesidad['Gender'].replace ('Female','0')\n",
        "obesidad['Gender']= obesidad['Gender'].replace ('Male','1')\n",
        "obesidad['family_history_with_overweight']= obesidad['family_history_with_overweight'].replace ('no','0')\n",
        "obesidad['family_history_with_overweight']= obesidad['family_history_with_overweight'].replace ('yes','1')\n",
        "obesidad['CAEC']= obesidad['CAEC'].replace ('no','0')\n",
        "obesidad['CAEC']= obesidad['CAEC'].replace ('Always','1')\n",
        "obesidad['CAEC']= obesidad['CAEC'].replace ('Frequently','1')\n",
        "obesidad['CAEC']= obesidad['CAEC'].replace ('Sometimes','1')\n",
        "obesidad['FAVC']= obesidad['FAVC'].replace ('no','0')\n",
        "obesidad['FAVC']= obesidad['FAVC'].replace ('yes','1')\n",
        "obesidad['SMOKE']= obesidad['SMOKE'].replace ('no','0')\n",
        "obesidad['SMOKE']= obesidad['SMOKE'].replace ('yes','1')\n",
        "obesidad['CALC']= obesidad['CALC'].replace ('no','0')\n",
        "obesidad['CALC']= obesidad['CALC'].replace ('Sometimes','1')\n",
        "obesidad['CALC']= obesidad['CALC'].replace ('Frequently','1')\n",
        "obesidad['CALC']= obesidad['CALC'].replace ('Always','1')\n",
        "obesidad['SCC']= obesidad['SCC'].replace ('no','0')\n",
        "obesidad['SCC']= obesidad['SCC'].replace ('yes','1')\n",
        "obesidad['FAF']= obesidad['FAF'].replace ('2','1')\n",
        "obesidad['FAF']= obesidad['FAF'].replace ('3','1')\n",
        "obesidad['MTRANS']= obesidad['MTRANS'].replace ('Automobile','0')\n",
        "obesidad['MTRANS']= obesidad['MTRANS'].replace ('Motorbike','0')\n",
        "obesidad['MTRANS']= obesidad['MTRANS'].replace ('Public_Transportation','0')\n",
        "obesidad['MTRANS']= obesidad['MTRANS'].replace ('Bike','1')\n",
        "obesidad['MTRANS']= obesidad['MTRANS'].replace ('Walking','1')\n",
        "obesidad['NObeyesdad']= obesidad['NObeyesdad'].replace ('Insufficient_Weight','Bajo_Peso')\n",
        "obesidad['NObeyesdad']= obesidad['NObeyesdad'].replace ('Normal_Weight','Peso_Normal')\n",
        "obesidad['NObeyesdad']= obesidad['NObeyesdad'].replace ('Obesity_Type_I','Obesidad')\n",
        "obesidad['NObeyesdad']= obesidad['NObeyesdad'].replace ('Obesity_Type_II','Obesidad')\n",
        "obesidad['NObeyesdad']= obesidad['NObeyesdad'].replace ('Obesity_Type_III','Obesidad')\n",
        "obesidad['NObeyesdad']= obesidad['NObeyesdad'].replace ('Overweight_Level_I','Sobrepeso')\n",
        "obesidad['NObeyesdad']= obesidad['NObeyesdad'].replace ('Overweight_Level_II','Sobrepeso')"
      ],
      "metadata": {
        "id": "-cpO3RO7PuRG"
      },
      "execution_count": null,
      "outputs": []
    },
    {
      "cell_type": "code",
      "source": [
        "obesidad.dtypes"
      ],
      "metadata": {
        "id": "equ7SSHEPw04",
        "colab": {
          "base_uri": "https://localhost:8080/"
        },
        "outputId": "d8fa99b3-924b-48f0-8621-7cbbf35661ea"
      },
      "execution_count": null,
      "outputs": [
        {
          "output_type": "execute_result",
          "data": {
            "text/plain": [
              "Gender                             object\n",
              "Age                               float64\n",
              "Height                            float64\n",
              "Weight                            float64\n",
              "family_history_with_overweight     object\n",
              "FAVC                               object\n",
              "FCVC                              float64\n",
              "NCP                               float64\n",
              "CAEC                               object\n",
              "SMOKE                              object\n",
              "CH2O                              float64\n",
              "SCC                                object\n",
              "FAF                               float64\n",
              "TUE                               float64\n",
              "CALC                               object\n",
              "MTRANS                             object\n",
              "NObeyesdad                         object\n",
              "dtype: object"
            ]
          },
          "metadata": {},
          "execution_count": 7
        }
      ]
    },
    {
      "cell_type": "code",
      "source": [
        "obesidad.Gender = obesidad.Gender.astype(float)\n",
        "obesidad.family_history_with_overweight = obesidad.family_history_with_overweight.astype(float)\n",
        "obesidad.FAVC = obesidad.FAVC.astype(float)\n",
        "obesidad.SMOKE = obesidad.SMOKE.astype(float)\n",
        "obesidad.CALC = obesidad.CALC.astype(float)\n",
        "obesidad.MTRANS = obesidad.MTRANS.astype(float)"
      ],
      "metadata": {
        "id": "Zutckzj_PzKQ"
      },
      "execution_count": null,
      "outputs": []
    },
    {
      "cell_type": "code",
      "source": [
        "obesidad.dtypes"
      ],
      "metadata": {
        "colab": {
          "base_uri": "https://localhost:8080/"
        },
        "id": "FOE4t9MVE1iL",
        "outputId": "009352d7-b192-4c07-d815-722651ee34e2"
      },
      "execution_count": null,
      "outputs": [
        {
          "output_type": "execute_result",
          "data": {
            "text/plain": [
              "Gender                            float64\n",
              "Age                               float64\n",
              "Height                            float64\n",
              "Weight                            float64\n",
              "family_history_with_overweight    float64\n",
              "FAVC                              float64\n",
              "FCVC                              float64\n",
              "NCP                               float64\n",
              "CAEC                               object\n",
              "SMOKE                             float64\n",
              "CH2O                              float64\n",
              "SCC                                object\n",
              "FAF                               float64\n",
              "TUE                               float64\n",
              "CALC                              float64\n",
              "MTRANS                             object\n",
              "NObeyesdad                         object\n",
              "dtype: object"
            ]
          },
          "metadata": {},
          "execution_count": 63
        }
      ]
    },
    {
      "cell_type": "code",
      "source": [
        "obesidad.columns"
      ],
      "metadata": {
        "id": "_yJcaAXsP0zc",
        "colab": {
          "base_uri": "https://localhost:8080/"
        },
        "outputId": "db370697-fab5-47b8-a5bb-29bd61ba84ab"
      },
      "execution_count": null,
      "outputs": [
        {
          "output_type": "execute_result",
          "data": {
            "text/plain": [
              "Index(['Gender', 'Age', 'Height', 'Weight', 'family_history_with_overweight',\n",
              "       'FAVC', 'FCVC', 'NCP', 'CAEC', 'SMOKE', 'CH2O', 'SCC', 'FAF', 'TUE',\n",
              "       'CALC', 'MTRANS', 'NObeyesdad'],\n",
              "      dtype='object')"
            ]
          },
          "metadata": {},
          "execution_count": 9
        }
      ]
    },
    {
      "cell_type": "code",
      "source": [
        "obesidad.columns = ['Genero', 'Edad', 'Altura', 'Peso', 'Antecedentes', 'Comidas Kcal', 'FCVC','NCP', 'CAEC', 'Fuma', 'CH2O', 'SCC', 'Act Fisica', 'TUE',\n",
        "       'Consume Alcohol', 'Movilidad', 'IMC']"
      ],
      "metadata": {
        "id": "b46t4N0BVw0Y"
      },
      "execution_count": null,
      "outputs": []
    },
    {
      "cell_type": "code",
      "source": [
        "obesidad.head()"
      ],
      "metadata": {
        "id": "lV1y6KmcP2UI",
        "colab": {
          "base_uri": "https://localhost:8080/",
          "height": 206
        },
        "outputId": "28222451-8dcc-47c0-ae3e-6e1533aa54aa"
      },
      "execution_count": null,
      "outputs": [
        {
          "output_type": "execute_result",
          "data": {
            "text/plain": [
              "   Genero  Edad  Altura  Peso  Antecedentes  Comidas Kcal  FCVC  NCP CAEC  \\\n",
              "0     0.0  21.0    1.62  64.0           1.0           0.0   2.0  3.0    1   \n",
              "1     0.0  21.0    1.52  56.0           1.0           0.0   3.0  3.0    1   \n",
              "2     1.0  23.0    1.80  77.0           1.0           0.0   2.0  3.0    1   \n",
              "3     1.0  27.0    1.80  87.0           0.0           0.0   3.0  3.0    1   \n",
              "4     1.0  22.0    1.78  89.8           0.0           0.0   2.0  1.0    1   \n",
              "\n",
              "   Fuma  CH2O SCC  Act Fisica  TUE  Consume Alcohol  Movilidad          IMC  \n",
              "0   0.0   2.0   0         0.0  1.0              0.0        0.0  Peso_Normal  \n",
              "1   1.0   3.0   1         3.0  0.0              1.0        0.0  Peso_Normal  \n",
              "2   0.0   2.0   0         2.0  1.0              1.0        0.0  Peso_Normal  \n",
              "3   0.0   2.0   0         2.0  0.0              1.0        1.0    Sobrepeso  \n",
              "4   0.0   2.0   0         0.0  0.0              1.0        0.0    Sobrepeso  "
            ],
            "text/html": [
              "\n",
              "  <div id=\"df-500cfe9c-dcfe-453a-be1f-557fe049a152\" class=\"colab-df-container\">\n",
              "    <div>\n",
              "<style scoped>\n",
              "    .dataframe tbody tr th:only-of-type {\n",
              "        vertical-align: middle;\n",
              "    }\n",
              "\n",
              "    .dataframe tbody tr th {\n",
              "        vertical-align: top;\n",
              "    }\n",
              "\n",
              "    .dataframe thead th {\n",
              "        text-align: right;\n",
              "    }\n",
              "</style>\n",
              "<table border=\"1\" class=\"dataframe\">\n",
              "  <thead>\n",
              "    <tr style=\"text-align: right;\">\n",
              "      <th></th>\n",
              "      <th>Genero</th>\n",
              "      <th>Edad</th>\n",
              "      <th>Altura</th>\n",
              "      <th>Peso</th>\n",
              "      <th>Antecedentes</th>\n",
              "      <th>Comidas Kcal</th>\n",
              "      <th>FCVC</th>\n",
              "      <th>NCP</th>\n",
              "      <th>CAEC</th>\n",
              "      <th>Fuma</th>\n",
              "      <th>CH2O</th>\n",
              "      <th>SCC</th>\n",
              "      <th>Act Fisica</th>\n",
              "      <th>TUE</th>\n",
              "      <th>Consume Alcohol</th>\n",
              "      <th>Movilidad</th>\n",
              "      <th>IMC</th>\n",
              "    </tr>\n",
              "  </thead>\n",
              "  <tbody>\n",
              "    <tr>\n",
              "      <th>0</th>\n",
              "      <td>0.0</td>\n",
              "      <td>21.0</td>\n",
              "      <td>1.62</td>\n",
              "      <td>64.0</td>\n",
              "      <td>1.0</td>\n",
              "      <td>0.0</td>\n",
              "      <td>2.0</td>\n",
              "      <td>3.0</td>\n",
              "      <td>1</td>\n",
              "      <td>0.0</td>\n",
              "      <td>2.0</td>\n",
              "      <td>0</td>\n",
              "      <td>0.0</td>\n",
              "      <td>1.0</td>\n",
              "      <td>0.0</td>\n",
              "      <td>0.0</td>\n",
              "      <td>Peso_Normal</td>\n",
              "    </tr>\n",
              "    <tr>\n",
              "      <th>1</th>\n",
              "      <td>0.0</td>\n",
              "      <td>21.0</td>\n",
              "      <td>1.52</td>\n",
              "      <td>56.0</td>\n",
              "      <td>1.0</td>\n",
              "      <td>0.0</td>\n",
              "      <td>3.0</td>\n",
              "      <td>3.0</td>\n",
              "      <td>1</td>\n",
              "      <td>1.0</td>\n",
              "      <td>3.0</td>\n",
              "      <td>1</td>\n",
              "      <td>3.0</td>\n",
              "      <td>0.0</td>\n",
              "      <td>1.0</td>\n",
              "      <td>0.0</td>\n",
              "      <td>Peso_Normal</td>\n",
              "    </tr>\n",
              "    <tr>\n",
              "      <th>2</th>\n",
              "      <td>1.0</td>\n",
              "      <td>23.0</td>\n",
              "      <td>1.80</td>\n",
              "      <td>77.0</td>\n",
              "      <td>1.0</td>\n",
              "      <td>0.0</td>\n",
              "      <td>2.0</td>\n",
              "      <td>3.0</td>\n",
              "      <td>1</td>\n",
              "      <td>0.0</td>\n",
              "      <td>2.0</td>\n",
              "      <td>0</td>\n",
              "      <td>2.0</td>\n",
              "      <td>1.0</td>\n",
              "      <td>1.0</td>\n",
              "      <td>0.0</td>\n",
              "      <td>Peso_Normal</td>\n",
              "    </tr>\n",
              "    <tr>\n",
              "      <th>3</th>\n",
              "      <td>1.0</td>\n",
              "      <td>27.0</td>\n",
              "      <td>1.80</td>\n",
              "      <td>87.0</td>\n",
              "      <td>0.0</td>\n",
              "      <td>0.0</td>\n",
              "      <td>3.0</td>\n",
              "      <td>3.0</td>\n",
              "      <td>1</td>\n",
              "      <td>0.0</td>\n",
              "      <td>2.0</td>\n",
              "      <td>0</td>\n",
              "      <td>2.0</td>\n",
              "      <td>0.0</td>\n",
              "      <td>1.0</td>\n",
              "      <td>1.0</td>\n",
              "      <td>Sobrepeso</td>\n",
              "    </tr>\n",
              "    <tr>\n",
              "      <th>4</th>\n",
              "      <td>1.0</td>\n",
              "      <td>22.0</td>\n",
              "      <td>1.78</td>\n",
              "      <td>89.8</td>\n",
              "      <td>0.0</td>\n",
              "      <td>0.0</td>\n",
              "      <td>2.0</td>\n",
              "      <td>1.0</td>\n",
              "      <td>1</td>\n",
              "      <td>0.0</td>\n",
              "      <td>2.0</td>\n",
              "      <td>0</td>\n",
              "      <td>0.0</td>\n",
              "      <td>0.0</td>\n",
              "      <td>1.0</td>\n",
              "      <td>0.0</td>\n",
              "      <td>Sobrepeso</td>\n",
              "    </tr>\n",
              "  </tbody>\n",
              "</table>\n",
              "</div>\n",
              "    <div class=\"colab-df-buttons\">\n",
              "\n",
              "  <div class=\"colab-df-container\">\n",
              "    <button class=\"colab-df-convert\" onclick=\"convertToInteractive('df-500cfe9c-dcfe-453a-be1f-557fe049a152')\"\n",
              "            title=\"Convert this dataframe to an interactive table.\"\n",
              "            style=\"display:none;\">\n",
              "\n",
              "  <svg xmlns=\"http://www.w3.org/2000/svg\" height=\"24px\" viewBox=\"0 -960 960 960\">\n",
              "    <path d=\"M120-120v-720h720v720H120Zm60-500h600v-160H180v160Zm220 220h160v-160H400v160Zm0 220h160v-160H400v160ZM180-400h160v-160H180v160Zm440 0h160v-160H620v160ZM180-180h160v-160H180v160Zm440 0h160v-160H620v160Z\"/>\n",
              "  </svg>\n",
              "    </button>\n",
              "\n",
              "  <style>\n",
              "    .colab-df-container {\n",
              "      display:flex;\n",
              "      gap: 12px;\n",
              "    }\n",
              "\n",
              "    .colab-df-convert {\n",
              "      background-color: #E8F0FE;\n",
              "      border: none;\n",
              "      border-radius: 50%;\n",
              "      cursor: pointer;\n",
              "      display: none;\n",
              "      fill: #1967D2;\n",
              "      height: 32px;\n",
              "      padding: 0 0 0 0;\n",
              "      width: 32px;\n",
              "    }\n",
              "\n",
              "    .colab-df-convert:hover {\n",
              "      background-color: #E2EBFA;\n",
              "      box-shadow: 0px 1px 2px rgba(60, 64, 67, 0.3), 0px 1px 3px 1px rgba(60, 64, 67, 0.15);\n",
              "      fill: #174EA6;\n",
              "    }\n",
              "\n",
              "    .colab-df-buttons div {\n",
              "      margin-bottom: 4px;\n",
              "    }\n",
              "\n",
              "    [theme=dark] .colab-df-convert {\n",
              "      background-color: #3B4455;\n",
              "      fill: #D2E3FC;\n",
              "    }\n",
              "\n",
              "    [theme=dark] .colab-df-convert:hover {\n",
              "      background-color: #434B5C;\n",
              "      box-shadow: 0px 1px 3px 1px rgba(0, 0, 0, 0.15);\n",
              "      filter: drop-shadow(0px 1px 2px rgba(0, 0, 0, 0.3));\n",
              "      fill: #FFFFFF;\n",
              "    }\n",
              "  </style>\n",
              "\n",
              "    <script>\n",
              "      const buttonEl =\n",
              "        document.querySelector('#df-500cfe9c-dcfe-453a-be1f-557fe049a152 button.colab-df-convert');\n",
              "      buttonEl.style.display =\n",
              "        google.colab.kernel.accessAllowed ? 'block' : 'none';\n",
              "\n",
              "      async function convertToInteractive(key) {\n",
              "        const element = document.querySelector('#df-500cfe9c-dcfe-453a-be1f-557fe049a152');\n",
              "        const dataTable =\n",
              "          await google.colab.kernel.invokeFunction('convertToInteractive',\n",
              "                                                    [key], {});\n",
              "        if (!dataTable) return;\n",
              "\n",
              "        const docLinkHtml = 'Like what you see? Visit the ' +\n",
              "          '<a target=\"_blank\" href=https://colab.research.google.com/notebooks/data_table.ipynb>data table notebook</a>'\n",
              "          + ' to learn more about interactive tables.';\n",
              "        element.innerHTML = '';\n",
              "        dataTable['output_type'] = 'display_data';\n",
              "        await google.colab.output.renderOutput(dataTable, element);\n",
              "        const docLink = document.createElement('div');\n",
              "        docLink.innerHTML = docLinkHtml;\n",
              "        element.appendChild(docLink);\n",
              "      }\n",
              "    </script>\n",
              "  </div>\n",
              "\n",
              "\n",
              "<div id=\"df-02e9d291-f6c3-43f8-bf2e-408141fd0ba1\">\n",
              "  <button class=\"colab-df-quickchart\" onclick=\"quickchart('df-02e9d291-f6c3-43f8-bf2e-408141fd0ba1')\"\n",
              "            title=\"Suggest charts.\"\n",
              "            style=\"display:none;\">\n",
              "\n",
              "<svg xmlns=\"http://www.w3.org/2000/svg\" height=\"24px\"viewBox=\"0 0 24 24\"\n",
              "     width=\"24px\">\n",
              "    <g>\n",
              "        <path d=\"M19 3H5c-1.1 0-2 .9-2 2v14c0 1.1.9 2 2 2h14c1.1 0 2-.9 2-2V5c0-1.1-.9-2-2-2zM9 17H7v-7h2v7zm4 0h-2V7h2v10zm4 0h-2v-4h2v4z\"/>\n",
              "    </g>\n",
              "</svg>\n",
              "  </button>\n",
              "\n",
              "<style>\n",
              "  .colab-df-quickchart {\n",
              "      --bg-color: #E8F0FE;\n",
              "      --fill-color: #1967D2;\n",
              "      --hover-bg-color: #E2EBFA;\n",
              "      --hover-fill-color: #174EA6;\n",
              "      --disabled-fill-color: #AAA;\n",
              "      --disabled-bg-color: #DDD;\n",
              "  }\n",
              "\n",
              "  [theme=dark] .colab-df-quickchart {\n",
              "      --bg-color: #3B4455;\n",
              "      --fill-color: #D2E3FC;\n",
              "      --hover-bg-color: #434B5C;\n",
              "      --hover-fill-color: #FFFFFF;\n",
              "      --disabled-bg-color: #3B4455;\n",
              "      --disabled-fill-color: #666;\n",
              "  }\n",
              "\n",
              "  .colab-df-quickchart {\n",
              "    background-color: var(--bg-color);\n",
              "    border: none;\n",
              "    border-radius: 50%;\n",
              "    cursor: pointer;\n",
              "    display: none;\n",
              "    fill: var(--fill-color);\n",
              "    height: 32px;\n",
              "    padding: 0;\n",
              "    width: 32px;\n",
              "  }\n",
              "\n",
              "  .colab-df-quickchart:hover {\n",
              "    background-color: var(--hover-bg-color);\n",
              "    box-shadow: 0 1px 2px rgba(60, 64, 67, 0.3), 0 1px 3px 1px rgba(60, 64, 67, 0.15);\n",
              "    fill: var(--button-hover-fill-color);\n",
              "  }\n",
              "\n",
              "  .colab-df-quickchart-complete:disabled,\n",
              "  .colab-df-quickchart-complete:disabled:hover {\n",
              "    background-color: var(--disabled-bg-color);\n",
              "    fill: var(--disabled-fill-color);\n",
              "    box-shadow: none;\n",
              "  }\n",
              "\n",
              "  .colab-df-spinner {\n",
              "    border: 2px solid var(--fill-color);\n",
              "    border-color: transparent;\n",
              "    border-bottom-color: var(--fill-color);\n",
              "    animation:\n",
              "      spin 1s steps(1) infinite;\n",
              "  }\n",
              "\n",
              "  @keyframes spin {\n",
              "    0% {\n",
              "      border-color: transparent;\n",
              "      border-bottom-color: var(--fill-color);\n",
              "      border-left-color: var(--fill-color);\n",
              "    }\n",
              "    20% {\n",
              "      border-color: transparent;\n",
              "      border-left-color: var(--fill-color);\n",
              "      border-top-color: var(--fill-color);\n",
              "    }\n",
              "    30% {\n",
              "      border-color: transparent;\n",
              "      border-left-color: var(--fill-color);\n",
              "      border-top-color: var(--fill-color);\n",
              "      border-right-color: var(--fill-color);\n",
              "    }\n",
              "    40% {\n",
              "      border-color: transparent;\n",
              "      border-right-color: var(--fill-color);\n",
              "      border-top-color: var(--fill-color);\n",
              "    }\n",
              "    60% {\n",
              "      border-color: transparent;\n",
              "      border-right-color: var(--fill-color);\n",
              "    }\n",
              "    80% {\n",
              "      border-color: transparent;\n",
              "      border-right-color: var(--fill-color);\n",
              "      border-bottom-color: var(--fill-color);\n",
              "    }\n",
              "    90% {\n",
              "      border-color: transparent;\n",
              "      border-bottom-color: var(--fill-color);\n",
              "    }\n",
              "  }\n",
              "</style>\n",
              "\n",
              "  <script>\n",
              "    async function quickchart(key) {\n",
              "      const quickchartButtonEl =\n",
              "        document.querySelector('#' + key + ' button');\n",
              "      quickchartButtonEl.disabled = true;  // To prevent multiple clicks.\n",
              "      quickchartButtonEl.classList.add('colab-df-spinner');\n",
              "      try {\n",
              "        const charts = await google.colab.kernel.invokeFunction(\n",
              "            'suggestCharts', [key], {});\n",
              "      } catch (error) {\n",
              "        console.error('Error during call to suggestCharts:', error);\n",
              "      }\n",
              "      quickchartButtonEl.classList.remove('colab-df-spinner');\n",
              "      quickchartButtonEl.classList.add('colab-df-quickchart-complete');\n",
              "    }\n",
              "    (() => {\n",
              "      let quickchartButtonEl =\n",
              "        document.querySelector('#df-02e9d291-f6c3-43f8-bf2e-408141fd0ba1 button');\n",
              "      quickchartButtonEl.style.display =\n",
              "        google.colab.kernel.accessAllowed ? 'block' : 'none';\n",
              "    })();\n",
              "  </script>\n",
              "</div>\n",
              "    </div>\n",
              "  </div>\n"
            ]
          },
          "metadata": {},
          "execution_count": 11
        }
      ]
    },
    {
      "cell_type": "code",
      "source": [
        "obesidad.isnull().sum()"
      ],
      "metadata": {
        "colab": {
          "base_uri": "https://localhost:8080/"
        },
        "id": "e3DbGKIKG2dT",
        "outputId": "32c47da7-ec41-45ee-c4bf-62bf97305dfb"
      },
      "execution_count": null,
      "outputs": [
        {
          "output_type": "execute_result",
          "data": {
            "text/plain": [
              "Genero             0\n",
              "Edad               0\n",
              "Altura             0\n",
              "Peso               0\n",
              "Antecedentes       0\n",
              "Comidas Kcal       0\n",
              "FCVC               0\n",
              "NCP                0\n",
              "CAEC               0\n",
              "Fuma               0\n",
              "CH2O               0\n",
              "SCC                0\n",
              "Act Fisica         0\n",
              "TUE                0\n",
              "Consume Alcohol    0\n",
              "Movilidad          0\n",
              "IMC                0\n",
              "dtype: int64"
            ]
          },
          "metadata": {},
          "execution_count": 12
        }
      ]
    },
    {
      "cell_type": "code",
      "source": [
        "import pandas as pd\n",
        "import numpy as np\n",
        "from sklearn import linear_model\n",
        "from sklearn import model_selection\n",
        "from sklearn.metrics import classification_report\n",
        "from sklearn.metrics import confusion_matrix\n",
        "from sklearn.metrics import accuracy_score\n",
        "import matplotlib.pyplot as plt\n",
        "import seaborn as sb\n",
        "%matplotlib inline"
      ],
      "metadata": {
        "id": "bHqDY6GB2yHh"
      },
      "execution_count": null,
      "outputs": []
    },
    {
      "cell_type": "code",
      "source": [
        "obesidad.head()"
      ],
      "metadata": {
        "colab": {
          "base_uri": "https://localhost:8080/",
          "height": 206
        },
        "id": "J3C_QtCV8e6k",
        "outputId": "8daf1211-0f4e-4641-abca-12ab7f7f8386"
      },
      "execution_count": null,
      "outputs": [
        {
          "output_type": "execute_result",
          "data": {
            "text/plain": [
              "   Genero  Edad  Altura  Peso  Antecedentes  Comidas Kcal  FCVC  NCP CAEC  \\\n",
              "0     0.0  21.0    1.62  64.0           1.0           0.0   2.0  3.0    1   \n",
              "1     0.0  21.0    1.52  56.0           1.0           0.0   3.0  3.0    1   \n",
              "2     1.0  23.0    1.80  77.0           1.0           0.0   2.0  3.0    1   \n",
              "3     1.0  27.0    1.80  87.0           0.0           0.0   3.0  3.0    1   \n",
              "4     1.0  22.0    1.78  89.8           0.0           0.0   2.0  1.0    1   \n",
              "\n",
              "   Fuma  CH2O SCC  Act Fisica  TUE  Consume Alcohol  Movilidad          IMC  \n",
              "0   0.0   2.0   0         0.0  1.0              0.0        0.0  Peso_Normal  \n",
              "1   1.0   3.0   1         3.0  0.0              1.0        0.0  Peso_Normal  \n",
              "2   0.0   2.0   0         2.0  1.0              1.0        0.0  Peso_Normal  \n",
              "3   0.0   2.0   0         2.0  0.0              1.0        1.0    Sobrepeso  \n",
              "4   0.0   2.0   0         0.0  0.0              1.0        0.0    Sobrepeso  "
            ],
            "text/html": [
              "\n",
              "  <div id=\"df-63b3d595-4911-4267-b5a6-c8a460915259\" class=\"colab-df-container\">\n",
              "    <div>\n",
              "<style scoped>\n",
              "    .dataframe tbody tr th:only-of-type {\n",
              "        vertical-align: middle;\n",
              "    }\n",
              "\n",
              "    .dataframe tbody tr th {\n",
              "        vertical-align: top;\n",
              "    }\n",
              "\n",
              "    .dataframe thead th {\n",
              "        text-align: right;\n",
              "    }\n",
              "</style>\n",
              "<table border=\"1\" class=\"dataframe\">\n",
              "  <thead>\n",
              "    <tr style=\"text-align: right;\">\n",
              "      <th></th>\n",
              "      <th>Genero</th>\n",
              "      <th>Edad</th>\n",
              "      <th>Altura</th>\n",
              "      <th>Peso</th>\n",
              "      <th>Antecedentes</th>\n",
              "      <th>Comidas Kcal</th>\n",
              "      <th>FCVC</th>\n",
              "      <th>NCP</th>\n",
              "      <th>CAEC</th>\n",
              "      <th>Fuma</th>\n",
              "      <th>CH2O</th>\n",
              "      <th>SCC</th>\n",
              "      <th>Act Fisica</th>\n",
              "      <th>TUE</th>\n",
              "      <th>Consume Alcohol</th>\n",
              "      <th>Movilidad</th>\n",
              "      <th>IMC</th>\n",
              "    </tr>\n",
              "  </thead>\n",
              "  <tbody>\n",
              "    <tr>\n",
              "      <th>0</th>\n",
              "      <td>0.0</td>\n",
              "      <td>21.0</td>\n",
              "      <td>1.62</td>\n",
              "      <td>64.0</td>\n",
              "      <td>1.0</td>\n",
              "      <td>0.0</td>\n",
              "      <td>2.0</td>\n",
              "      <td>3.0</td>\n",
              "      <td>1</td>\n",
              "      <td>0.0</td>\n",
              "      <td>2.0</td>\n",
              "      <td>0</td>\n",
              "      <td>0.0</td>\n",
              "      <td>1.0</td>\n",
              "      <td>0.0</td>\n",
              "      <td>0.0</td>\n",
              "      <td>Peso_Normal</td>\n",
              "    </tr>\n",
              "    <tr>\n",
              "      <th>1</th>\n",
              "      <td>0.0</td>\n",
              "      <td>21.0</td>\n",
              "      <td>1.52</td>\n",
              "      <td>56.0</td>\n",
              "      <td>1.0</td>\n",
              "      <td>0.0</td>\n",
              "      <td>3.0</td>\n",
              "      <td>3.0</td>\n",
              "      <td>1</td>\n",
              "      <td>1.0</td>\n",
              "      <td>3.0</td>\n",
              "      <td>1</td>\n",
              "      <td>3.0</td>\n",
              "      <td>0.0</td>\n",
              "      <td>1.0</td>\n",
              "      <td>0.0</td>\n",
              "      <td>Peso_Normal</td>\n",
              "    </tr>\n",
              "    <tr>\n",
              "      <th>2</th>\n",
              "      <td>1.0</td>\n",
              "      <td>23.0</td>\n",
              "      <td>1.80</td>\n",
              "      <td>77.0</td>\n",
              "      <td>1.0</td>\n",
              "      <td>0.0</td>\n",
              "      <td>2.0</td>\n",
              "      <td>3.0</td>\n",
              "      <td>1</td>\n",
              "      <td>0.0</td>\n",
              "      <td>2.0</td>\n",
              "      <td>0</td>\n",
              "      <td>2.0</td>\n",
              "      <td>1.0</td>\n",
              "      <td>1.0</td>\n",
              "      <td>0.0</td>\n",
              "      <td>Peso_Normal</td>\n",
              "    </tr>\n",
              "    <tr>\n",
              "      <th>3</th>\n",
              "      <td>1.0</td>\n",
              "      <td>27.0</td>\n",
              "      <td>1.80</td>\n",
              "      <td>87.0</td>\n",
              "      <td>0.0</td>\n",
              "      <td>0.0</td>\n",
              "      <td>3.0</td>\n",
              "      <td>3.0</td>\n",
              "      <td>1</td>\n",
              "      <td>0.0</td>\n",
              "      <td>2.0</td>\n",
              "      <td>0</td>\n",
              "      <td>2.0</td>\n",
              "      <td>0.0</td>\n",
              "      <td>1.0</td>\n",
              "      <td>1.0</td>\n",
              "      <td>Sobrepeso</td>\n",
              "    </tr>\n",
              "    <tr>\n",
              "      <th>4</th>\n",
              "      <td>1.0</td>\n",
              "      <td>22.0</td>\n",
              "      <td>1.78</td>\n",
              "      <td>89.8</td>\n",
              "      <td>0.0</td>\n",
              "      <td>0.0</td>\n",
              "      <td>2.0</td>\n",
              "      <td>1.0</td>\n",
              "      <td>1</td>\n",
              "      <td>0.0</td>\n",
              "      <td>2.0</td>\n",
              "      <td>0</td>\n",
              "      <td>0.0</td>\n",
              "      <td>0.0</td>\n",
              "      <td>1.0</td>\n",
              "      <td>0.0</td>\n",
              "      <td>Sobrepeso</td>\n",
              "    </tr>\n",
              "  </tbody>\n",
              "</table>\n",
              "</div>\n",
              "    <div class=\"colab-df-buttons\">\n",
              "\n",
              "  <div class=\"colab-df-container\">\n",
              "    <button class=\"colab-df-convert\" onclick=\"convertToInteractive('df-63b3d595-4911-4267-b5a6-c8a460915259')\"\n",
              "            title=\"Convert this dataframe to an interactive table.\"\n",
              "            style=\"display:none;\">\n",
              "\n",
              "  <svg xmlns=\"http://www.w3.org/2000/svg\" height=\"24px\" viewBox=\"0 -960 960 960\">\n",
              "    <path d=\"M120-120v-720h720v720H120Zm60-500h600v-160H180v160Zm220 220h160v-160H400v160Zm0 220h160v-160H400v160ZM180-400h160v-160H180v160Zm440 0h160v-160H620v160ZM180-180h160v-160H180v160Zm440 0h160v-160H620v160Z\"/>\n",
              "  </svg>\n",
              "    </button>\n",
              "\n",
              "  <style>\n",
              "    .colab-df-container {\n",
              "      display:flex;\n",
              "      gap: 12px;\n",
              "    }\n",
              "\n",
              "    .colab-df-convert {\n",
              "      background-color: #E8F0FE;\n",
              "      border: none;\n",
              "      border-radius: 50%;\n",
              "      cursor: pointer;\n",
              "      display: none;\n",
              "      fill: #1967D2;\n",
              "      height: 32px;\n",
              "      padding: 0 0 0 0;\n",
              "      width: 32px;\n",
              "    }\n",
              "\n",
              "    .colab-df-convert:hover {\n",
              "      background-color: #E2EBFA;\n",
              "      box-shadow: 0px 1px 2px rgba(60, 64, 67, 0.3), 0px 1px 3px 1px rgba(60, 64, 67, 0.15);\n",
              "      fill: #174EA6;\n",
              "    }\n",
              "\n",
              "    .colab-df-buttons div {\n",
              "      margin-bottom: 4px;\n",
              "    }\n",
              "\n",
              "    [theme=dark] .colab-df-convert {\n",
              "      background-color: #3B4455;\n",
              "      fill: #D2E3FC;\n",
              "    }\n",
              "\n",
              "    [theme=dark] .colab-df-convert:hover {\n",
              "      background-color: #434B5C;\n",
              "      box-shadow: 0px 1px 3px 1px rgba(0, 0, 0, 0.15);\n",
              "      filter: drop-shadow(0px 1px 2px rgba(0, 0, 0, 0.3));\n",
              "      fill: #FFFFFF;\n",
              "    }\n",
              "  </style>\n",
              "\n",
              "    <script>\n",
              "      const buttonEl =\n",
              "        document.querySelector('#df-63b3d595-4911-4267-b5a6-c8a460915259 button.colab-df-convert');\n",
              "      buttonEl.style.display =\n",
              "        google.colab.kernel.accessAllowed ? 'block' : 'none';\n",
              "\n",
              "      async function convertToInteractive(key) {\n",
              "        const element = document.querySelector('#df-63b3d595-4911-4267-b5a6-c8a460915259');\n",
              "        const dataTable =\n",
              "          await google.colab.kernel.invokeFunction('convertToInteractive',\n",
              "                                                    [key], {});\n",
              "        if (!dataTable) return;\n",
              "\n",
              "        const docLinkHtml = 'Like what you see? Visit the ' +\n",
              "          '<a target=\"_blank\" href=https://colab.research.google.com/notebooks/data_table.ipynb>data table notebook</a>'\n",
              "          + ' to learn more about interactive tables.';\n",
              "        element.innerHTML = '';\n",
              "        dataTable['output_type'] = 'display_data';\n",
              "        await google.colab.output.renderOutput(dataTable, element);\n",
              "        const docLink = document.createElement('div');\n",
              "        docLink.innerHTML = docLinkHtml;\n",
              "        element.appendChild(docLink);\n",
              "      }\n",
              "    </script>\n",
              "  </div>\n",
              "\n",
              "\n",
              "<div id=\"df-f7cd6fda-3a45-4c2e-b85a-82386235e4bd\">\n",
              "  <button class=\"colab-df-quickchart\" onclick=\"quickchart('df-f7cd6fda-3a45-4c2e-b85a-82386235e4bd')\"\n",
              "            title=\"Suggest charts.\"\n",
              "            style=\"display:none;\">\n",
              "\n",
              "<svg xmlns=\"http://www.w3.org/2000/svg\" height=\"24px\"viewBox=\"0 0 24 24\"\n",
              "     width=\"24px\">\n",
              "    <g>\n",
              "        <path d=\"M19 3H5c-1.1 0-2 .9-2 2v14c0 1.1.9 2 2 2h14c1.1 0 2-.9 2-2V5c0-1.1-.9-2-2-2zM9 17H7v-7h2v7zm4 0h-2V7h2v10zm4 0h-2v-4h2v4z\"/>\n",
              "    </g>\n",
              "</svg>\n",
              "  </button>\n",
              "\n",
              "<style>\n",
              "  .colab-df-quickchart {\n",
              "      --bg-color: #E8F0FE;\n",
              "      --fill-color: #1967D2;\n",
              "      --hover-bg-color: #E2EBFA;\n",
              "      --hover-fill-color: #174EA6;\n",
              "      --disabled-fill-color: #AAA;\n",
              "      --disabled-bg-color: #DDD;\n",
              "  }\n",
              "\n",
              "  [theme=dark] .colab-df-quickchart {\n",
              "      --bg-color: #3B4455;\n",
              "      --fill-color: #D2E3FC;\n",
              "      --hover-bg-color: #434B5C;\n",
              "      --hover-fill-color: #FFFFFF;\n",
              "      --disabled-bg-color: #3B4455;\n",
              "      --disabled-fill-color: #666;\n",
              "  }\n",
              "\n",
              "  .colab-df-quickchart {\n",
              "    background-color: var(--bg-color);\n",
              "    border: none;\n",
              "    border-radius: 50%;\n",
              "    cursor: pointer;\n",
              "    display: none;\n",
              "    fill: var(--fill-color);\n",
              "    height: 32px;\n",
              "    padding: 0;\n",
              "    width: 32px;\n",
              "  }\n",
              "\n",
              "  .colab-df-quickchart:hover {\n",
              "    background-color: var(--hover-bg-color);\n",
              "    box-shadow: 0 1px 2px rgba(60, 64, 67, 0.3), 0 1px 3px 1px rgba(60, 64, 67, 0.15);\n",
              "    fill: var(--button-hover-fill-color);\n",
              "  }\n",
              "\n",
              "  .colab-df-quickchart-complete:disabled,\n",
              "  .colab-df-quickchart-complete:disabled:hover {\n",
              "    background-color: var(--disabled-bg-color);\n",
              "    fill: var(--disabled-fill-color);\n",
              "    box-shadow: none;\n",
              "  }\n",
              "\n",
              "  .colab-df-spinner {\n",
              "    border: 2px solid var(--fill-color);\n",
              "    border-color: transparent;\n",
              "    border-bottom-color: var(--fill-color);\n",
              "    animation:\n",
              "      spin 1s steps(1) infinite;\n",
              "  }\n",
              "\n",
              "  @keyframes spin {\n",
              "    0% {\n",
              "      border-color: transparent;\n",
              "      border-bottom-color: var(--fill-color);\n",
              "      border-left-color: var(--fill-color);\n",
              "    }\n",
              "    20% {\n",
              "      border-color: transparent;\n",
              "      border-left-color: var(--fill-color);\n",
              "      border-top-color: var(--fill-color);\n",
              "    }\n",
              "    30% {\n",
              "      border-color: transparent;\n",
              "      border-left-color: var(--fill-color);\n",
              "      border-top-color: var(--fill-color);\n",
              "      border-right-color: var(--fill-color);\n",
              "    }\n",
              "    40% {\n",
              "      border-color: transparent;\n",
              "      border-right-color: var(--fill-color);\n",
              "      border-top-color: var(--fill-color);\n",
              "    }\n",
              "    60% {\n",
              "      border-color: transparent;\n",
              "      border-right-color: var(--fill-color);\n",
              "    }\n",
              "    80% {\n",
              "      border-color: transparent;\n",
              "      border-right-color: var(--fill-color);\n",
              "      border-bottom-color: var(--fill-color);\n",
              "    }\n",
              "    90% {\n",
              "      border-color: transparent;\n",
              "      border-bottom-color: var(--fill-color);\n",
              "    }\n",
              "  }\n",
              "</style>\n",
              "\n",
              "  <script>\n",
              "    async function quickchart(key) {\n",
              "      const quickchartButtonEl =\n",
              "        document.querySelector('#' + key + ' button');\n",
              "      quickchartButtonEl.disabled = true;  // To prevent multiple clicks.\n",
              "      quickchartButtonEl.classList.add('colab-df-spinner');\n",
              "      try {\n",
              "        const charts = await google.colab.kernel.invokeFunction(\n",
              "            'suggestCharts', [key], {});\n",
              "      } catch (error) {\n",
              "        console.error('Error during call to suggestCharts:', error);\n",
              "      }\n",
              "      quickchartButtonEl.classList.remove('colab-df-spinner');\n",
              "      quickchartButtonEl.classList.add('colab-df-quickchart-complete');\n",
              "    }\n",
              "    (() => {\n",
              "      let quickchartButtonEl =\n",
              "        document.querySelector('#df-f7cd6fda-3a45-4c2e-b85a-82386235e4bd button');\n",
              "      quickchartButtonEl.style.display =\n",
              "        google.colab.kernel.accessAllowed ? 'block' : 'none';\n",
              "    })();\n",
              "  </script>\n",
              "</div>\n",
              "    </div>\n",
              "  </div>\n"
            ]
          },
          "metadata": {},
          "execution_count": 27
        }
      ]
    },
    {
      "cell_type": "code",
      "source": [
        "obesidad.describe()"
      ],
      "metadata": {
        "colab": {
          "base_uri": "https://localhost:8080/",
          "height": 338
        },
        "id": "7d9wUGSC8eyW",
        "outputId": "bb273328-075f-4720-9819-95da51f6825c"
      },
      "execution_count": null,
      "outputs": [
        {
          "output_type": "execute_result",
          "data": {
            "text/plain": [
              "            Genero         Edad       Altura         Peso  Antecedentes  \\\n",
              "count  2111.000000  2111.000000  2111.000000  2111.000000   2111.000000   \n",
              "mean      0.505921    24.312600     1.701677    86.586058      0.817622   \n",
              "std       0.500083     6.345968     0.093305    26.191172      0.386247   \n",
              "min       0.000000    14.000000     1.450000    39.000000      0.000000   \n",
              "25%       0.000000    19.947192     1.630000    65.473343      1.000000   \n",
              "50%       1.000000    22.777890     1.700499    83.000000      1.000000   \n",
              "75%       1.000000    26.000000     1.768464   107.430682      1.000000   \n",
              "max       1.000000    61.000000     1.980000   173.000000      1.000000   \n",
              "\n",
              "       Comidas Kcal         FCVC          NCP         Fuma         CH2O  \\\n",
              "count   2111.000000  2111.000000  2111.000000  2111.000000  2111.000000   \n",
              "mean       0.883941     2.419043     2.685628     0.020843     2.008011   \n",
              "std        0.320371     0.533927     0.778039     0.142893     0.612953   \n",
              "min        0.000000     1.000000     1.000000     0.000000     1.000000   \n",
              "25%        1.000000     2.000000     2.658738     0.000000     1.584812   \n",
              "50%        1.000000     2.385502     3.000000     0.000000     2.000000   \n",
              "75%        1.000000     3.000000     3.000000     0.000000     2.477420   \n",
              "max        1.000000     3.000000     4.000000     1.000000     3.000000   \n",
              "\n",
              "        Act Fisica          TUE  Consume Alcohol    Movilidad  \n",
              "count  2111.000000  2111.000000      2111.000000  2111.000000  \n",
              "mean      1.010298     0.657866         0.697300     0.029844  \n",
              "std       0.850592     0.608927         0.459535     0.170196  \n",
              "min       0.000000     0.000000         0.000000     0.000000  \n",
              "25%       0.124505     0.000000         0.000000     0.000000  \n",
              "50%       1.000000     0.625350         1.000000     0.000000  \n",
              "75%       1.666678     1.000000         1.000000     0.000000  \n",
              "max       3.000000     2.000000         1.000000     1.000000  "
            ],
            "text/html": [
              "\n",
              "  <div id=\"df-02b1d29e-1de7-4d2e-88a4-af3c10344b29\" class=\"colab-df-container\">\n",
              "    <div>\n",
              "<style scoped>\n",
              "    .dataframe tbody tr th:only-of-type {\n",
              "        vertical-align: middle;\n",
              "    }\n",
              "\n",
              "    .dataframe tbody tr th {\n",
              "        vertical-align: top;\n",
              "    }\n",
              "\n",
              "    .dataframe thead th {\n",
              "        text-align: right;\n",
              "    }\n",
              "</style>\n",
              "<table border=\"1\" class=\"dataframe\">\n",
              "  <thead>\n",
              "    <tr style=\"text-align: right;\">\n",
              "      <th></th>\n",
              "      <th>Genero</th>\n",
              "      <th>Edad</th>\n",
              "      <th>Altura</th>\n",
              "      <th>Peso</th>\n",
              "      <th>Antecedentes</th>\n",
              "      <th>Comidas Kcal</th>\n",
              "      <th>FCVC</th>\n",
              "      <th>NCP</th>\n",
              "      <th>Fuma</th>\n",
              "      <th>CH2O</th>\n",
              "      <th>Act Fisica</th>\n",
              "      <th>TUE</th>\n",
              "      <th>Consume Alcohol</th>\n",
              "      <th>Movilidad</th>\n",
              "    </tr>\n",
              "  </thead>\n",
              "  <tbody>\n",
              "    <tr>\n",
              "      <th>count</th>\n",
              "      <td>2111.000000</td>\n",
              "      <td>2111.000000</td>\n",
              "      <td>2111.000000</td>\n",
              "      <td>2111.000000</td>\n",
              "      <td>2111.000000</td>\n",
              "      <td>2111.000000</td>\n",
              "      <td>2111.000000</td>\n",
              "      <td>2111.000000</td>\n",
              "      <td>2111.000000</td>\n",
              "      <td>2111.000000</td>\n",
              "      <td>2111.000000</td>\n",
              "      <td>2111.000000</td>\n",
              "      <td>2111.000000</td>\n",
              "      <td>2111.000000</td>\n",
              "    </tr>\n",
              "    <tr>\n",
              "      <th>mean</th>\n",
              "      <td>0.505921</td>\n",
              "      <td>24.312600</td>\n",
              "      <td>1.701677</td>\n",
              "      <td>86.586058</td>\n",
              "      <td>0.817622</td>\n",
              "      <td>0.883941</td>\n",
              "      <td>2.419043</td>\n",
              "      <td>2.685628</td>\n",
              "      <td>0.020843</td>\n",
              "      <td>2.008011</td>\n",
              "      <td>1.010298</td>\n",
              "      <td>0.657866</td>\n",
              "      <td>0.697300</td>\n",
              "      <td>0.029844</td>\n",
              "    </tr>\n",
              "    <tr>\n",
              "      <th>std</th>\n",
              "      <td>0.500083</td>\n",
              "      <td>6.345968</td>\n",
              "      <td>0.093305</td>\n",
              "      <td>26.191172</td>\n",
              "      <td>0.386247</td>\n",
              "      <td>0.320371</td>\n",
              "      <td>0.533927</td>\n",
              "      <td>0.778039</td>\n",
              "      <td>0.142893</td>\n",
              "      <td>0.612953</td>\n",
              "      <td>0.850592</td>\n",
              "      <td>0.608927</td>\n",
              "      <td>0.459535</td>\n",
              "      <td>0.170196</td>\n",
              "    </tr>\n",
              "    <tr>\n",
              "      <th>min</th>\n",
              "      <td>0.000000</td>\n",
              "      <td>14.000000</td>\n",
              "      <td>1.450000</td>\n",
              "      <td>39.000000</td>\n",
              "      <td>0.000000</td>\n",
              "      <td>0.000000</td>\n",
              "      <td>1.000000</td>\n",
              "      <td>1.000000</td>\n",
              "      <td>0.000000</td>\n",
              "      <td>1.000000</td>\n",
              "      <td>0.000000</td>\n",
              "      <td>0.000000</td>\n",
              "      <td>0.000000</td>\n",
              "      <td>0.000000</td>\n",
              "    </tr>\n",
              "    <tr>\n",
              "      <th>25%</th>\n",
              "      <td>0.000000</td>\n",
              "      <td>19.947192</td>\n",
              "      <td>1.630000</td>\n",
              "      <td>65.473343</td>\n",
              "      <td>1.000000</td>\n",
              "      <td>1.000000</td>\n",
              "      <td>2.000000</td>\n",
              "      <td>2.658738</td>\n",
              "      <td>0.000000</td>\n",
              "      <td>1.584812</td>\n",
              "      <td>0.124505</td>\n",
              "      <td>0.000000</td>\n",
              "      <td>0.000000</td>\n",
              "      <td>0.000000</td>\n",
              "    </tr>\n",
              "    <tr>\n",
              "      <th>50%</th>\n",
              "      <td>1.000000</td>\n",
              "      <td>22.777890</td>\n",
              "      <td>1.700499</td>\n",
              "      <td>83.000000</td>\n",
              "      <td>1.000000</td>\n",
              "      <td>1.000000</td>\n",
              "      <td>2.385502</td>\n",
              "      <td>3.000000</td>\n",
              "      <td>0.000000</td>\n",
              "      <td>2.000000</td>\n",
              "      <td>1.000000</td>\n",
              "      <td>0.625350</td>\n",
              "      <td>1.000000</td>\n",
              "      <td>0.000000</td>\n",
              "    </tr>\n",
              "    <tr>\n",
              "      <th>75%</th>\n",
              "      <td>1.000000</td>\n",
              "      <td>26.000000</td>\n",
              "      <td>1.768464</td>\n",
              "      <td>107.430682</td>\n",
              "      <td>1.000000</td>\n",
              "      <td>1.000000</td>\n",
              "      <td>3.000000</td>\n",
              "      <td>3.000000</td>\n",
              "      <td>0.000000</td>\n",
              "      <td>2.477420</td>\n",
              "      <td>1.666678</td>\n",
              "      <td>1.000000</td>\n",
              "      <td>1.000000</td>\n",
              "      <td>0.000000</td>\n",
              "    </tr>\n",
              "    <tr>\n",
              "      <th>max</th>\n",
              "      <td>1.000000</td>\n",
              "      <td>61.000000</td>\n",
              "      <td>1.980000</td>\n",
              "      <td>173.000000</td>\n",
              "      <td>1.000000</td>\n",
              "      <td>1.000000</td>\n",
              "      <td>3.000000</td>\n",
              "      <td>4.000000</td>\n",
              "      <td>1.000000</td>\n",
              "      <td>3.000000</td>\n",
              "      <td>3.000000</td>\n",
              "      <td>2.000000</td>\n",
              "      <td>1.000000</td>\n",
              "      <td>1.000000</td>\n",
              "    </tr>\n",
              "  </tbody>\n",
              "</table>\n",
              "</div>\n",
              "    <div class=\"colab-df-buttons\">\n",
              "\n",
              "  <div class=\"colab-df-container\">\n",
              "    <button class=\"colab-df-convert\" onclick=\"convertToInteractive('df-02b1d29e-1de7-4d2e-88a4-af3c10344b29')\"\n",
              "            title=\"Convert this dataframe to an interactive table.\"\n",
              "            style=\"display:none;\">\n",
              "\n",
              "  <svg xmlns=\"http://www.w3.org/2000/svg\" height=\"24px\" viewBox=\"0 -960 960 960\">\n",
              "    <path d=\"M120-120v-720h720v720H120Zm60-500h600v-160H180v160Zm220 220h160v-160H400v160Zm0 220h160v-160H400v160ZM180-400h160v-160H180v160Zm440 0h160v-160H620v160ZM180-180h160v-160H180v160Zm440 0h160v-160H620v160Z\"/>\n",
              "  </svg>\n",
              "    </button>\n",
              "\n",
              "  <style>\n",
              "    .colab-df-container {\n",
              "      display:flex;\n",
              "      gap: 12px;\n",
              "    }\n",
              "\n",
              "    .colab-df-convert {\n",
              "      background-color: #E8F0FE;\n",
              "      border: none;\n",
              "      border-radius: 50%;\n",
              "      cursor: pointer;\n",
              "      display: none;\n",
              "      fill: #1967D2;\n",
              "      height: 32px;\n",
              "      padding: 0 0 0 0;\n",
              "      width: 32px;\n",
              "    }\n",
              "\n",
              "    .colab-df-convert:hover {\n",
              "      background-color: #E2EBFA;\n",
              "      box-shadow: 0px 1px 2px rgba(60, 64, 67, 0.3), 0px 1px 3px 1px rgba(60, 64, 67, 0.15);\n",
              "      fill: #174EA6;\n",
              "    }\n",
              "\n",
              "    .colab-df-buttons div {\n",
              "      margin-bottom: 4px;\n",
              "    }\n",
              "\n",
              "    [theme=dark] .colab-df-convert {\n",
              "      background-color: #3B4455;\n",
              "      fill: #D2E3FC;\n",
              "    }\n",
              "\n",
              "    [theme=dark] .colab-df-convert:hover {\n",
              "      background-color: #434B5C;\n",
              "      box-shadow: 0px 1px 3px 1px rgba(0, 0, 0, 0.15);\n",
              "      filter: drop-shadow(0px 1px 2px rgba(0, 0, 0, 0.3));\n",
              "      fill: #FFFFFF;\n",
              "    }\n",
              "  </style>\n",
              "\n",
              "    <script>\n",
              "      const buttonEl =\n",
              "        document.querySelector('#df-02b1d29e-1de7-4d2e-88a4-af3c10344b29 button.colab-df-convert');\n",
              "      buttonEl.style.display =\n",
              "        google.colab.kernel.accessAllowed ? 'block' : 'none';\n",
              "\n",
              "      async function convertToInteractive(key) {\n",
              "        const element = document.querySelector('#df-02b1d29e-1de7-4d2e-88a4-af3c10344b29');\n",
              "        const dataTable =\n",
              "          await google.colab.kernel.invokeFunction('convertToInteractive',\n",
              "                                                    [key], {});\n",
              "        if (!dataTable) return;\n",
              "\n",
              "        const docLinkHtml = 'Like what you see? Visit the ' +\n",
              "          '<a target=\"_blank\" href=https://colab.research.google.com/notebooks/data_table.ipynb>data table notebook</a>'\n",
              "          + ' to learn more about interactive tables.';\n",
              "        element.innerHTML = '';\n",
              "        dataTable['output_type'] = 'display_data';\n",
              "        await google.colab.output.renderOutput(dataTable, element);\n",
              "        const docLink = document.createElement('div');\n",
              "        docLink.innerHTML = docLinkHtml;\n",
              "        element.appendChild(docLink);\n",
              "      }\n",
              "    </script>\n",
              "  </div>\n",
              "\n",
              "\n",
              "<div id=\"df-000e013f-94d3-4683-9f8a-33bc7d223929\">\n",
              "  <button class=\"colab-df-quickchart\" onclick=\"quickchart('df-000e013f-94d3-4683-9f8a-33bc7d223929')\"\n",
              "            title=\"Suggest charts.\"\n",
              "            style=\"display:none;\">\n",
              "\n",
              "<svg xmlns=\"http://www.w3.org/2000/svg\" height=\"24px\"viewBox=\"0 0 24 24\"\n",
              "     width=\"24px\">\n",
              "    <g>\n",
              "        <path d=\"M19 3H5c-1.1 0-2 .9-2 2v14c0 1.1.9 2 2 2h14c1.1 0 2-.9 2-2V5c0-1.1-.9-2-2-2zM9 17H7v-7h2v7zm4 0h-2V7h2v10zm4 0h-2v-4h2v4z\"/>\n",
              "    </g>\n",
              "</svg>\n",
              "  </button>\n",
              "\n",
              "<style>\n",
              "  .colab-df-quickchart {\n",
              "      --bg-color: #E8F0FE;\n",
              "      --fill-color: #1967D2;\n",
              "      --hover-bg-color: #E2EBFA;\n",
              "      --hover-fill-color: #174EA6;\n",
              "      --disabled-fill-color: #AAA;\n",
              "      --disabled-bg-color: #DDD;\n",
              "  }\n",
              "\n",
              "  [theme=dark] .colab-df-quickchart {\n",
              "      --bg-color: #3B4455;\n",
              "      --fill-color: #D2E3FC;\n",
              "      --hover-bg-color: #434B5C;\n",
              "      --hover-fill-color: #FFFFFF;\n",
              "      --disabled-bg-color: #3B4455;\n",
              "      --disabled-fill-color: #666;\n",
              "  }\n",
              "\n",
              "  .colab-df-quickchart {\n",
              "    background-color: var(--bg-color);\n",
              "    border: none;\n",
              "    border-radius: 50%;\n",
              "    cursor: pointer;\n",
              "    display: none;\n",
              "    fill: var(--fill-color);\n",
              "    height: 32px;\n",
              "    padding: 0;\n",
              "    width: 32px;\n",
              "  }\n",
              "\n",
              "  .colab-df-quickchart:hover {\n",
              "    background-color: var(--hover-bg-color);\n",
              "    box-shadow: 0 1px 2px rgba(60, 64, 67, 0.3), 0 1px 3px 1px rgba(60, 64, 67, 0.15);\n",
              "    fill: var(--button-hover-fill-color);\n",
              "  }\n",
              "\n",
              "  .colab-df-quickchart-complete:disabled,\n",
              "  .colab-df-quickchart-complete:disabled:hover {\n",
              "    background-color: var(--disabled-bg-color);\n",
              "    fill: var(--disabled-fill-color);\n",
              "    box-shadow: none;\n",
              "  }\n",
              "\n",
              "  .colab-df-spinner {\n",
              "    border: 2px solid var(--fill-color);\n",
              "    border-color: transparent;\n",
              "    border-bottom-color: var(--fill-color);\n",
              "    animation:\n",
              "      spin 1s steps(1) infinite;\n",
              "  }\n",
              "\n",
              "  @keyframes spin {\n",
              "    0% {\n",
              "      border-color: transparent;\n",
              "      border-bottom-color: var(--fill-color);\n",
              "      border-left-color: var(--fill-color);\n",
              "    }\n",
              "    20% {\n",
              "      border-color: transparent;\n",
              "      border-left-color: var(--fill-color);\n",
              "      border-top-color: var(--fill-color);\n",
              "    }\n",
              "    30% {\n",
              "      border-color: transparent;\n",
              "      border-left-color: var(--fill-color);\n",
              "      border-top-color: var(--fill-color);\n",
              "      border-right-color: var(--fill-color);\n",
              "    }\n",
              "    40% {\n",
              "      border-color: transparent;\n",
              "      border-right-color: var(--fill-color);\n",
              "      border-top-color: var(--fill-color);\n",
              "    }\n",
              "    60% {\n",
              "      border-color: transparent;\n",
              "      border-right-color: var(--fill-color);\n",
              "    }\n",
              "    80% {\n",
              "      border-color: transparent;\n",
              "      border-right-color: var(--fill-color);\n",
              "      border-bottom-color: var(--fill-color);\n",
              "    }\n",
              "    90% {\n",
              "      border-color: transparent;\n",
              "      border-bottom-color: var(--fill-color);\n",
              "    }\n",
              "  }\n",
              "</style>\n",
              "\n",
              "  <script>\n",
              "    async function quickchart(key) {\n",
              "      const quickchartButtonEl =\n",
              "        document.querySelector('#' + key + ' button');\n",
              "      quickchartButtonEl.disabled = true;  // To prevent multiple clicks.\n",
              "      quickchartButtonEl.classList.add('colab-df-spinner');\n",
              "      try {\n",
              "        const charts = await google.colab.kernel.invokeFunction(\n",
              "            'suggestCharts', [key], {});\n",
              "      } catch (error) {\n",
              "        console.error('Error during call to suggestCharts:', error);\n",
              "      }\n",
              "      quickchartButtonEl.classList.remove('colab-df-spinner');\n",
              "      quickchartButtonEl.classList.add('colab-df-quickchart-complete');\n",
              "    }\n",
              "    (() => {\n",
              "      let quickchartButtonEl =\n",
              "        document.querySelector('#df-000e013f-94d3-4683-9f8a-33bc7d223929 button');\n",
              "      quickchartButtonEl.style.display =\n",
              "        google.colab.kernel.accessAllowed ? 'block' : 'none';\n",
              "    })();\n",
              "  </script>\n",
              "</div>\n",
              "    </div>\n",
              "  </div>\n"
            ]
          },
          "metadata": {},
          "execution_count": 28
        }
      ]
    },
    {
      "cell_type": "code",
      "source": [
        "print(obesidad.groupby('IMC').size())"
      ],
      "metadata": {
        "colab": {
          "base_uri": "https://localhost:8080/"
        },
        "id": "aeoIR4Qx8eqh",
        "outputId": "14f253da-1a33-4866-9faf-4abe4772030a"
      },
      "execution_count": null,
      "outputs": [
        {
          "output_type": "stream",
          "name": "stdout",
          "text": [
            "IMC\n",
            "Bajo_Peso      272\n",
            "Obesidad       972\n",
            "Peso_Normal    287\n",
            "Sobrepeso      580\n",
            "dtype: int64\n"
          ]
        }
      ]
    },
    {
      "cell_type": "code",
      "source": [
        "X = np.array(obesidad.drop(['IMC'],1))\n",
        "y = np.array(obesidad['IMC'])\n",
        "X.shape"
      ],
      "metadata": {
        "colab": {
          "base_uri": "https://localhost:8080/"
        },
        "id": "QsFp4jEU8eeD",
        "outputId": "e925f6e4-466b-48b8-e57d-6ce4d017ef82"
      },
      "execution_count": null,
      "outputs": [
        {
          "output_type": "stream",
          "name": "stderr",
          "text": [
            "<ipython-input-76-eea7ead50f8b>:1: FutureWarning: In a future version of pandas all arguments of DataFrame.drop except for the argument 'labels' will be keyword-only.\n",
            "  X = np.array(obesidad.drop(['IMC'],1))\n"
          ]
        },
        {
          "output_type": "execute_result",
          "data": {
            "text/plain": [
              "(2111, 16)"
            ]
          },
          "metadata": {},
          "execution_count": 76
        }
      ]
    },
    {
      "cell_type": "code",
      "source": [
        "model = linear_model.LogisticRegression()\n",
        "model.fit(X,y)"
      ],
      "metadata": {
        "colab": {
          "base_uri": "https://localhost:8080/",
          "height": 214
        },
        "id": "sUNk1x279aaz",
        "outputId": "0a34d5af-17ba-47dd-842c-fb330b773559"
      },
      "execution_count": null,
      "outputs": [
        {
          "output_type": "stream",
          "name": "stderr",
          "text": [
            "/usr/local/lib/python3.10/dist-packages/sklearn/linear_model/_logistic.py:458: ConvergenceWarning: lbfgs failed to converge (status=1):\n",
            "STOP: TOTAL NO. of ITERATIONS REACHED LIMIT.\n",
            "\n",
            "Increase the number of iterations (max_iter) or scale the data as shown in:\n",
            "    https://scikit-learn.org/stable/modules/preprocessing.html\n",
            "Please also refer to the documentation for alternative solver options:\n",
            "    https://scikit-learn.org/stable/modules/linear_model.html#logistic-regression\n",
            "  n_iter_i = _check_optimize_result(\n"
          ]
        },
        {
          "output_type": "execute_result",
          "data": {
            "text/plain": [
              "LogisticRegression()"
            ],
            "text/html": [
              "<style>#sk-container-id-2 {color: black;background-color: white;}#sk-container-id-2 pre{padding: 0;}#sk-container-id-2 div.sk-toggleable {background-color: white;}#sk-container-id-2 label.sk-toggleable__label {cursor: pointer;display: block;width: 100%;margin-bottom: 0;padding: 0.3em;box-sizing: border-box;text-align: center;}#sk-container-id-2 label.sk-toggleable__label-arrow:before {content: \"▸\";float: left;margin-right: 0.25em;color: #696969;}#sk-container-id-2 label.sk-toggleable__label-arrow:hover:before {color: black;}#sk-container-id-2 div.sk-estimator:hover label.sk-toggleable__label-arrow:before {color: black;}#sk-container-id-2 div.sk-toggleable__content {max-height: 0;max-width: 0;overflow: hidden;text-align: left;background-color: #f0f8ff;}#sk-container-id-2 div.sk-toggleable__content pre {margin: 0.2em;color: black;border-radius: 0.25em;background-color: #f0f8ff;}#sk-container-id-2 input.sk-toggleable__control:checked~div.sk-toggleable__content {max-height: 200px;max-width: 100%;overflow: auto;}#sk-container-id-2 input.sk-toggleable__control:checked~label.sk-toggleable__label-arrow:before {content: \"▾\";}#sk-container-id-2 div.sk-estimator input.sk-toggleable__control:checked~label.sk-toggleable__label {background-color: #d4ebff;}#sk-container-id-2 div.sk-label input.sk-toggleable__control:checked~label.sk-toggleable__label {background-color: #d4ebff;}#sk-container-id-2 input.sk-hidden--visually {border: 0;clip: rect(1px 1px 1px 1px);clip: rect(1px, 1px, 1px, 1px);height: 1px;margin: -1px;overflow: hidden;padding: 0;position: absolute;width: 1px;}#sk-container-id-2 div.sk-estimator {font-family: monospace;background-color: #f0f8ff;border: 1px dotted black;border-radius: 0.25em;box-sizing: border-box;margin-bottom: 0.5em;}#sk-container-id-2 div.sk-estimator:hover {background-color: #d4ebff;}#sk-container-id-2 div.sk-parallel-item::after {content: \"\";width: 100%;border-bottom: 1px solid gray;flex-grow: 1;}#sk-container-id-2 div.sk-label:hover label.sk-toggleable__label {background-color: #d4ebff;}#sk-container-id-2 div.sk-serial::before {content: \"\";position: absolute;border-left: 1px solid gray;box-sizing: border-box;top: 0;bottom: 0;left: 50%;z-index: 0;}#sk-container-id-2 div.sk-serial {display: flex;flex-direction: column;align-items: center;background-color: white;padding-right: 0.2em;padding-left: 0.2em;position: relative;}#sk-container-id-2 div.sk-item {position: relative;z-index: 1;}#sk-container-id-2 div.sk-parallel {display: flex;align-items: stretch;justify-content: center;background-color: white;position: relative;}#sk-container-id-2 div.sk-item::before, #sk-container-id-2 div.sk-parallel-item::before {content: \"\";position: absolute;border-left: 1px solid gray;box-sizing: border-box;top: 0;bottom: 0;left: 50%;z-index: -1;}#sk-container-id-2 div.sk-parallel-item {display: flex;flex-direction: column;z-index: 1;position: relative;background-color: white;}#sk-container-id-2 div.sk-parallel-item:first-child::after {align-self: flex-end;width: 50%;}#sk-container-id-2 div.sk-parallel-item:last-child::after {align-self: flex-start;width: 50%;}#sk-container-id-2 div.sk-parallel-item:only-child::after {width: 0;}#sk-container-id-2 div.sk-dashed-wrapped {border: 1px dashed gray;margin: 0 0.4em 0.5em 0.4em;box-sizing: border-box;padding-bottom: 0.4em;background-color: white;}#sk-container-id-2 div.sk-label label {font-family: monospace;font-weight: bold;display: inline-block;line-height: 1.2em;}#sk-container-id-2 div.sk-label-container {text-align: center;}#sk-container-id-2 div.sk-container {/* jupyter's `normalize.less` sets `[hidden] { display: none; }` but bootstrap.min.css set `[hidden] { display: none !important; }` so we also need the `!important` here to be able to override the default hidden behavior on the sphinx rendered scikit-learn.org. See: https://github.com/scikit-learn/scikit-learn/issues/21755 */display: inline-block !important;position: relative;}#sk-container-id-2 div.sk-text-repr-fallback {display: none;}</style><div id=\"sk-container-id-2\" class=\"sk-top-container\"><div class=\"sk-text-repr-fallback\"><pre>LogisticRegression()</pre><b>In a Jupyter environment, please rerun this cell to show the HTML representation or trust the notebook. <br />On GitHub, the HTML representation is unable to render, please try loading this page with nbviewer.org.</b></div><div class=\"sk-container\" hidden><div class=\"sk-item\"><div class=\"sk-estimator sk-toggleable\"><input class=\"sk-toggleable__control sk-hidden--visually\" id=\"sk-estimator-id-2\" type=\"checkbox\" checked><label for=\"sk-estimator-id-2\" class=\"sk-toggleable__label sk-toggleable__label-arrow\">LogisticRegression</label><div class=\"sk-toggleable__content\"><pre>LogisticRegression()</pre></div></div></div></div></div>"
            ]
          },
          "metadata": {},
          "execution_count": 77
        }
      ]
    },
    {
      "cell_type": "code",
      "source": [
        "predictions = model.predict(X)\n",
        "print (predictions)"
      ],
      "metadata": {
        "colab": {
          "base_uri": "https://localhost:8080/"
        },
        "id": "I4MjVBR19xrS",
        "outputId": "99aba7fd-b508-4263-8533-637f485cedbd"
      },
      "execution_count": null,
      "outputs": [
        {
          "output_type": "stream",
          "name": "stdout",
          "text": [
            "['Sobrepeso' 'Bajo_Peso' 'Sobrepeso' ... 'Obesidad' 'Obesidad' 'Obesidad']\n"
          ]
        }
      ]
    },
    {
      "cell_type": "code",
      "source": [
        "model.score(X,y)"
      ],
      "metadata": {
        "colab": {
          "base_uri": "https://localhost:8080/"
        },
        "id": "gmVX-2eo-Mt-",
        "outputId": "c21bfa13-c3e9-4676-950f-c467cc8b6ea4"
      },
      "execution_count": null,
      "outputs": [
        {
          "output_type": "execute_result",
          "data": {
            "text/plain": [
              "0.8171482709616296"
            ]
          },
          "metadata": {},
          "execution_count": 79
        }
      ]
    },
    {
      "cell_type": "code",
      "source": [
        "validation_size = 0.20\n",
        "seed = 7\n",
        "X_train, X_validation, Y_train, Y_validation = model_selection.train_test_split(X, y, test_size=validation_size, random_state=seed)\n"
      ],
      "metadata": {
        "id": "y0-yepll-eOk"
      },
      "execution_count": null,
      "outputs": []
    },
    {
      "cell_type": "code",
      "source": [
        "name='Logistic Regression'\n",
        "kfold = model_selection.KFold(n_splits=7, random_state=None)\n",
        "cv_results = model_selection.cross_val_score(model, X_train, Y_train, cv=kfold, scoring='accuracy')\n",
        "msg = \"%s: %f (%f)\" % (name, cv_results.mean(), cv_results.std())\n",
        "print(msg)"
      ],
      "metadata": {
        "colab": {
          "base_uri": "https://localhost:8080/"
        },
        "id": "67GJxTFw-lZm",
        "outputId": "8f854436-1112-40b0-d6e8-f0a2fc97d06d"
      },
      "execution_count": null,
      "outputs": [
        {
          "output_type": "stream",
          "name": "stderr",
          "text": [
            "/usr/local/lib/python3.10/dist-packages/sklearn/linear_model/_logistic.py:458: ConvergenceWarning: lbfgs failed to converge (status=1):\n",
            "STOP: TOTAL NO. of ITERATIONS REACHED LIMIT.\n",
            "\n",
            "Increase the number of iterations (max_iter) or scale the data as shown in:\n",
            "    https://scikit-learn.org/stable/modules/preprocessing.html\n",
            "Please also refer to the documentation for alternative solver options:\n",
            "    https://scikit-learn.org/stable/modules/linear_model.html#logistic-regression\n",
            "  n_iter_i = _check_optimize_result(\n",
            "/usr/local/lib/python3.10/dist-packages/sklearn/linear_model/_logistic.py:458: ConvergenceWarning: lbfgs failed to converge (status=1):\n",
            "STOP: TOTAL NO. of ITERATIONS REACHED LIMIT.\n",
            "\n",
            "Increase the number of iterations (max_iter) or scale the data as shown in:\n",
            "    https://scikit-learn.org/stable/modules/preprocessing.html\n",
            "Please also refer to the documentation for alternative solver options:\n",
            "    https://scikit-learn.org/stable/modules/linear_model.html#logistic-regression\n",
            "  n_iter_i = _check_optimize_result(\n",
            "/usr/local/lib/python3.10/dist-packages/sklearn/linear_model/_logistic.py:458: ConvergenceWarning: lbfgs failed to converge (status=1):\n",
            "STOP: TOTAL NO. of ITERATIONS REACHED LIMIT.\n",
            "\n",
            "Increase the number of iterations (max_iter) or scale the data as shown in:\n",
            "    https://scikit-learn.org/stable/modules/preprocessing.html\n",
            "Please also refer to the documentation for alternative solver options:\n",
            "    https://scikit-learn.org/stable/modules/linear_model.html#logistic-regression\n",
            "  n_iter_i = _check_optimize_result(\n",
            "/usr/local/lib/python3.10/dist-packages/sklearn/linear_model/_logistic.py:458: ConvergenceWarning: lbfgs failed to converge (status=1):\n",
            "STOP: TOTAL NO. of ITERATIONS REACHED LIMIT.\n",
            "\n",
            "Increase the number of iterations (max_iter) or scale the data as shown in:\n",
            "    https://scikit-learn.org/stable/modules/preprocessing.html\n",
            "Please also refer to the documentation for alternative solver options:\n",
            "    https://scikit-learn.org/stable/modules/linear_model.html#logistic-regression\n",
            "  n_iter_i = _check_optimize_result(\n",
            "/usr/local/lib/python3.10/dist-packages/sklearn/linear_model/_logistic.py:458: ConvergenceWarning: lbfgs failed to converge (status=1):\n",
            "STOP: TOTAL NO. of ITERATIONS REACHED LIMIT.\n",
            "\n",
            "Increase the number of iterations (max_iter) or scale the data as shown in:\n",
            "    https://scikit-learn.org/stable/modules/preprocessing.html\n",
            "Please also refer to the documentation for alternative solver options:\n",
            "    https://scikit-learn.org/stable/modules/linear_model.html#logistic-regression\n",
            "  n_iter_i = _check_optimize_result(\n",
            "/usr/local/lib/python3.10/dist-packages/sklearn/linear_model/_logistic.py:458: ConvergenceWarning: lbfgs failed to converge (status=1):\n",
            "STOP: TOTAL NO. of ITERATIONS REACHED LIMIT.\n",
            "\n",
            "Increase the number of iterations (max_iter) or scale the data as shown in:\n",
            "    https://scikit-learn.org/stable/modules/preprocessing.html\n",
            "Please also refer to the documentation for alternative solver options:\n",
            "    https://scikit-learn.org/stable/modules/linear_model.html#logistic-regression\n",
            "  n_iter_i = _check_optimize_result(\n"
          ]
        },
        {
          "output_type": "stream",
          "name": "stdout",
          "text": [
            "Logistic Regression: 0.801533 (0.034215)\n"
          ]
        },
        {
          "output_type": "stream",
          "name": "stderr",
          "text": [
            "/usr/local/lib/python3.10/dist-packages/sklearn/linear_model/_logistic.py:458: ConvergenceWarning: lbfgs failed to converge (status=1):\n",
            "STOP: TOTAL NO. of ITERATIONS REACHED LIMIT.\n",
            "\n",
            "Increase the number of iterations (max_iter) or scale the data as shown in:\n",
            "    https://scikit-learn.org/stable/modules/preprocessing.html\n",
            "Please also refer to the documentation for alternative solver options:\n",
            "    https://scikit-learn.org/stable/modules/linear_model.html#logistic-regression\n",
            "  n_iter_i = _check_optimize_result(\n"
          ]
        }
      ]
    },
    {
      "cell_type": "code",
      "source": [
        "predictions = model.predict(X_validation)\n",
        "print(accuracy_score(Y_validation, predictions))"
      ],
      "metadata": {
        "colab": {
          "base_uri": "https://localhost:8080/"
        },
        "id": "hn8ZWi7s_1Ub",
        "outputId": "1605a25f-617d-4b3b-844b-8a1781c7c488"
      },
      "execution_count": null,
      "outputs": [
        {
          "output_type": "stream",
          "name": "stdout",
          "text": [
            "0.8392434988179669\n"
          ]
        }
      ]
    },
    {
      "cell_type": "code",
      "source": [
        "print(confusion_matrix(Y_validation, predictions))"
      ],
      "metadata": {
        "colab": {
          "base_uri": "https://localhost:8080/"
        },
        "id": "JWFxQzXAABE6",
        "outputId": "e8e93242-b12e-4f97-eb89-e832da84a61f"
      },
      "execution_count": null,
      "outputs": [
        {
          "output_type": "stream",
          "name": "stdout",
          "text": [
            "[[ 45   0   8   0]\n",
            " [  0 182   0  15]\n",
            " [ 11   0  34  19]\n",
            " [  0   8   7  94]]\n"
          ]
        }
      ]
    },
    {
      "cell_type": "code",
      "source": [
        "print(classification_report(Y_validation, predictions))"
      ],
      "metadata": {
        "colab": {
          "base_uri": "https://localhost:8080/"
        },
        "id": "IumeXWGCAGSc",
        "outputId": "7cff0a80-aa37-4aa8-d5a7-9d66f3bd5651"
      },
      "execution_count": null,
      "outputs": [
        {
          "output_type": "stream",
          "name": "stdout",
          "text": [
            "              precision    recall  f1-score   support\n",
            "\n",
            "   Bajo_Peso       0.80      0.85      0.83        53\n",
            "    Obesidad       0.96      0.92      0.94       197\n",
            " Peso_Normal       0.69      0.53      0.60        64\n",
            "   Sobrepeso       0.73      0.86      0.79       109\n",
            "\n",
            "    accuracy                           0.84       423\n",
            "   macro avg       0.80      0.79      0.79       423\n",
            "weighted avg       0.84      0.84      0.84       423\n",
            "\n"
          ]
        }
      ]
    },
    {
      "cell_type": "code",
      "source": [
        "!pip install --upgrade scikit-learn\n",
        "!pip show scikit-learn\n",
        "from sklearn import metrics\n",
        "from sklearn.metrics import ConfusionMatrixDisplay"
      ],
      "metadata": {
        "colab": {
          "base_uri": "https://localhost:8080/",
          "height": 530
        },
        "id": "zGJGkcRJATgQ",
        "outputId": "e213cfd9-5d24-4325-82e2-982f43322462"
      },
      "execution_count": null,
      "outputs": [
        {
          "output_type": "stream",
          "name": "stdout",
          "text": [
            "Requirement already satisfied: scikit-learn in /usr/local/lib/python3.10/dist-packages (1.2.2)\n",
            "Collecting scikit-learn\n",
            "  Downloading scikit_learn-1.3.1-cp310-cp310-manylinux_2_17_x86_64.manylinux2014_x86_64.whl (10.8 MB)\n",
            "\u001b[2K     \u001b[90m━━━━━━━━━━━━━━━━━━━━━━━━━━━━━━━━━━━━━━━━\u001b[0m \u001b[32m10.8/10.8 MB\u001b[0m \u001b[31m74.0 MB/s\u001b[0m eta \u001b[36m0:00:00\u001b[0m\n",
            "\u001b[?25hRequirement already satisfied: numpy<2.0,>=1.17.3 in /usr/local/lib/python3.10/dist-packages (from scikit-learn) (1.23.5)\n",
            "Requirement already satisfied: scipy>=1.5.0 in /usr/local/lib/python3.10/dist-packages (from scikit-learn) (1.11.3)\n",
            "Requirement already satisfied: joblib>=1.1.1 in /usr/local/lib/python3.10/dist-packages (from scikit-learn) (1.3.2)\n",
            "Requirement already satisfied: threadpoolctl>=2.0.0 in /usr/local/lib/python3.10/dist-packages (from scikit-learn) (3.2.0)\n",
            "Installing collected packages: scikit-learn\n",
            "  Attempting uninstall: scikit-learn\n",
            "    Found existing installation: scikit-learn 1.2.2\n",
            "    Uninstalling scikit-learn-1.2.2:\n",
            "      Successfully uninstalled scikit-learn-1.2.2\n",
            "Successfully installed scikit-learn-1.3.1\n"
          ]
        },
        {
          "output_type": "display_data",
          "data": {
            "application/vnd.colab-display-data+json": {
              "pip_warning": {
                "packages": [
                  "sklearn"
                ]
              }
            }
          },
          "metadata": {}
        },
        {
          "output_type": "stream",
          "name": "stdout",
          "text": [
            "Name: scikit-learn\n",
            "Version: 1.3.1\n",
            "Summary: A set of python modules for machine learning and data mining\n",
            "Home-page: http://scikit-learn.org\n",
            "Author: \n",
            "Author-email: \n",
            "License: new BSD\n",
            "Location: /usr/local/lib/python3.10/dist-packages\n",
            "Requires: joblib, numpy, scipy, threadpoolctl\n",
            "Required-by: fastai, imbalanced-learn, librosa, mlxtend, pingouin, qudida, sklearn-pandas, yellowbrick\n"
          ]
        }
      ]
    },
    {
      "cell_type": "code",
      "source": [
        "confusion_matrix = metrics.confusion_matrix(Y_validation, predictions)\n",
        "cm_display = metrics.ConfusionMatrixDisplay(confusion_matrix)\n",
        "cm_display.plot(cmap='viridis')\n",
        "plt.title('Matriz de Confusión')\n",
        "plt.show()"
      ],
      "metadata": {
        "colab": {
          "base_uri": "https://localhost:8080/",
          "height": 472
        },
        "id": "7vzsFTkdAavp",
        "outputId": "6dfb8956-6b9a-4c23-bf9b-ed99b2f5617a"
      },
      "execution_count": null,
      "outputs": [
        {
          "output_type": "display_data",
          "data": {
            "text/plain": [
              "<Figure size 640x480 with 2 Axes>"
            ],
            "image/png": "[encoded data removed]"
          },
          "metadata": {}
        }
      ]
    },
    {
      "cell_type": "code",
      "source": [
        "X_new = pd.DataFrame({'Genero': [1], 'Edad': [42], 'Height': [1.71], 'Peso': [50], 'Antecedentes Obesidad': [1], 'Ingesta de Comidas Caloricas': [0], 'FCVC': [0],'NCP': [0], 'CAEC': [0], 'FUMADOR': [0], 'CH2O': [2], 'SCC': [1], 'FAF': [1], 'TUE': [0],\n",
        "       'Consume Alcohol': [0], 'MTRANS': [0]})\n",
        "model.predict(X_new)"
      ],
      "metadata": {
        "colab": {
          "base_uri": "https://localhost:8080/"
        },
        "id": "ZZMaN_goE80j",
        "outputId": "60e1018b-d38b-4b2c-9f5a-6f28d724571d"
      },
      "execution_count": null,
      "outputs": [
        {
          "output_type": "stream",
          "name": "stderr",
          "text": [
            "/usr/local/lib/python3.10/dist-packages/sklearn/base.py:432: UserWarning: X has feature names, but LogisticRegression was fitted without feature names\n",
            "  If False, the input will be checked for consistency with\n"
          ]
        },
        {
          "output_type": "execute_result",
          "data": {
            "text/plain": [
              "array(['Sobrepeso'], dtype=object)"
            ]
          },
          "metadata": {},
          "execution_count": 91
        }
      ]
    }
  ]
}